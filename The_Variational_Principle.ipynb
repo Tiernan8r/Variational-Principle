{
 "cells": [
  {
   "cell_type": "markdown",
   "metadata": {},
   "source": [
    "# The Variational Principle"
   ]
  },
  {
   "cell_type": "markdown",
   "metadata": {
    "pycharm": {
     "name": "#%% md\n"
    }
   },
   "source": [
    "$$ \\hat{H}\\psi = E\\psi $$\n",
    "\n",
    "$$ [-\\frac{\\hbar^2}{2m}\\frac{\\partial^2}{\\partial x^2}+V(x)]\\psi=E\\psi $$"
   ]
  },
  {
   "cell_type": "markdown",
   "metadata": {
    "pycharm": {
     "name": "#%% md\n"
    }
   },
   "source": [
    "Run all the import statements initially"
   ]
  },
  {
   "cell_type": "code",
   "execution_count": 39,
   "metadata": {
    "pycharm": {
     "is_executing": false,
     "name": "#%%\n"
    }
   },
   "outputs": [],
   "source": [
    "# Used for plotting\n",
    "import matplotlib.pyplot as plt\n",
    "# Used for numerical calculations throughout\n",
    "import numpy\n",
    "# Used for integration calculations\n",
    "from scipy import integrate\n",
    "# Used for computing the laplacian in the Hamiltonian\n",
    "import scipy.ndimage.filters as filters\n",
    "# Used for the generation of random numbers\n",
    "import random\n",
    "# Used for Fourier Analysis of results\n",
    "from scipy import fftpack"
   ]
  },
  {
   "cell_type": "markdown",
   "metadata": {
    "pycharm": {
     "name": "#%% md\n"
    }
   },
   "source": [
    "Set the value of $\\hbar$ and $m$ used in the Schrodinger Equation and calculate the \n",
    "value of $-\\frac{\\hbar^2}{2m}$ as it's reused constantly in calculations.\n",
    "\n",
    "Values taken from Wikipedia:\n",
    "* $\\hbar$: https://en.wikipedia.org/wiki/Planck_constant\n",
    "* $m$: https://en.wikipedia.org/wiki/Electron"
   ]
  },
  {
   "cell_type": "code",
   "execution_count": 40,
   "metadata": {
    "pycharm": {
     "is_executing": false,
     "name": "#%%\n"
    }
   },
   "outputs": [],
   "source": [
    "# h_bar = 1\n",
    "# h_bar = 1.054571817 * 10 **-34 \t#J⋅s\n",
    "h_bar = 6.582119569 * 10 ** -16   #eV.s\n",
    "\n",
    "\n",
    "# m = 1\n",
    "m = 9.1093837015 *10**-31 #kg (from wikipedia)\n",
    "\n",
    "factor = -h_bar**2 / (2 * m)"
   ]
  },
  {
   "cell_type": "markdown",
   "metadata": {
    "pycharm": {
     "name": "#%% md\n"
    }
   },
   "source": [
    "Define the potential function, it is a scalar function that has the same length as \n",
    "the given $\\bar{r}$"
   ]
  },
  {
   "cell_type": "markdown",
   "metadata": {
    "pycharm": {
     "is_executing": false,
     "name": "#%% md\n"
    }
   },
   "source": [
    "Create sub potential functions that can be implemented in the main function for \n",
    "analytically solved examples:"
   ]
  },
  {
   "cell_type": "code",
   "execution_count": 41,
   "outputs": [],
   "source": [
    "def free_particle(r : numpy.ndarray):\n",
    "    \"\"\"\n",
    "    The free particle potential represents an unbound particle in zero potential.\n",
    "    :param r: The coordinates of the potential values\n",
    "    :return: The free particle potential.\n",
    "    \"\"\"\n",
    "    # The free particle has no potential.\n",
    "    return numpy.zeros(len(r))"
   ],
   "metadata": {
    "collapsed": false,
    "pycharm": {
     "name": "#%%\n",
     "is_executing": false
    }
   }
  },
  {
   "cell_type": "code",
   "execution_count": 42,
   "outputs": [],
   "source": [
    "def finite_square_well(r : numpy.ndarray, V_0 = 1.0, wall_bounds = (200, 800)):\n",
    "    \"\"\"\n",
    "    The infinite square well has defined potential within the bounds.\n",
    "    :param r: The coordinates of the potential values.\n",
    "    :param V_0: The potential value outside of the well\n",
    "    :param wall_bounds: The points at which the well boundary starts. \n",
    "    :return: The infinite potential well function. \n",
    "    \"\"\"\n",
    "    # Get the number of points along the axis\n",
    "    num_points = len(r)\n",
    "    # The first number in wall_bounds is the index of the first well wall\n",
    "    lower = wall_bounds[0]\n",
    "    # the index of the second wall is the second index in wall_bounds \n",
    "    upper = num_points - wall_bounds[1]\n",
    "    \n",
    "    # Create the potential barrier of the well.\n",
    "    lower_wall = numpy.array([V_0] * lower)\n",
    "    # inside the well the potential is 0\n",
    "    zeroes = numpy.zeros(num_points - lower - upper)\n",
    "    # second potential barrier\n",
    "    upper_wall = numpy.array([V_0] * upper)\n",
    "    # Make the potential the combination of all the sections\n",
    "    pot = numpy.concatenate((lower_wall, zeroes, upper_wall))\n",
    "    \n",
    "    return pot\n"
   ],
   "metadata": {
    "collapsed": false,
    "pycharm": {
     "name": "#%%\n",
     "is_executing": false
    }
   }
  },
  {
   "cell_type": "code",
   "execution_count": 43,
   "outputs": [],
   "source": [
    "def infinite_square_well(r : numpy.ndarray, wall_bounds = (200, 800)):\n",
    "    \"\"\"\n",
    "    The infinite square well has defined potential within the bounds.\n",
    "    :param r: The coordinates of the potential values.\n",
    "    :param wall_bounds: The points at which the well boundary starts.\n",
    "    :return: The infinite potential well function.\n",
    "    \"\"\"\n",
    "    # Use the finite square well with infinite barriers.\n",
    "    return finite_square_well(r, numpy.inf, wall_bounds)"
   ],
   "metadata": {
    "collapsed": false,
    "pycharm": {
     "name": "#%%\n",
     "is_executing": false
    }
   }
  },
  {
   "cell_type": "code",
   "execution_count": 44,
   "outputs": [],
   "source": [
    "def harmonic_oscillator(r : numpy.ndarray, k = 0.01):\n",
    "    \"\"\"\n",
    "    The Harmonic Oscillator potential is quadratic about the origin.\n",
    "    :param r: The coordinates of the potential values.\n",
    "    :param k: Hooke's constant for the system\n",
    "    :return: The harmonic potential.\n",
    "    \"\"\"\n",
    "    # The potential energy formula:\n",
    "    return 0.5 * k * r**2"
   ],
   "metadata": {
    "collapsed": false,
    "pycharm": {
     "name": "#%%\n",
     "is_executing": false
    }
   }
  },
  {
   "cell_type": "code",
   "execution_count": 45,
   "outputs": [],
   "source": [
    "def potential(r :numpy.ndarray):\n",
    "    \"\"\"\n",
    "    The potential energy function of the system.\n",
    "    :param r: The points on the axes of the system. \n",
    "    :return: A scalar ndarray of the values of the potential at each point in r. \n",
    "    \"\"\"\n",
    "    \n",
    "    return harmonic_oscillator(r, 0.01)\n",
    "    # return finite_square_well(r, 1, (200, 800))\n",
    "    # return infinite_square_well(r, (200, 800))\n",
    "    # return free_particle(r)"
   ],
   "metadata": {
    "collapsed": false,
    "pycharm": {
     "name": "#%%\n",
     "is_executing": false
    }
   }
  },
  {
   "cell_type": "markdown",
   "metadata": {
    "pycharm": {
     "name": "#%% md\n"
    }
   },
   "source": [
    "Define the Hamiltonian operator from the Schrodinger Equation:\n",
    "\n",
    "$$\\hat{H} = -\\frac{\\hbar^2}{2m}\\nabla^2+V(x)$$\n",
    "\n",
    "where \n",
    "\n",
    "$$\\nabla^2=\\frac{\\partial^2}{\\partial x^2} + \\frac{\\partial^2}{\\partial y^2} + \\frac{\\partial^2}{\\partial z^2}$$"
   ]
  },
  {
   "cell_type": "markdown",
   "metadata": {
    "pycharm": {
     "is_executing": false,
     "name": "#%% md\n"
    }
   },
   "source": [
    "$\\nabla f = \\frac{\\partial f}{\\partial x}\\hat{i} + \\frac{\\partial f}{\\partial y}\\hat{j} + \\frac{\\partial f}{\\partial z}\\hat{k}$\n",
    "\n",
    "$\\nabla . f =  \\frac{\\partial f}{\\partial x} + \\frac{\\partial f}{\\partial y} + \\frac{\\partial f}{\\partial z}$\n",
    "\n",
    "$\\nabla^2 f = \\frac{\\partial^2 f}{\\partial x^2} + \\frac{\\partial^2 f}{\\partial y^2} + \\frac{\\partial^2 f}{\\partial z^2}$\n",
    "\n",
    "$\\nabla^2\\psi = \\nabla . (\\nabla \\psi)$"
   ]
  },
  {
   "cell_type": "code",
   "execution_count": 46,
   "outputs": [],
   "source": [
    "# V is the potential,\n",
    "# psi is the wavefunction\n",
    "def hamiltonian(V :numpy.ndarray):\n",
    "    \"\"\"\n",
    "    Returns the Hamiltonian Operator H for a given potential function V.\n",
    "    \n",
    "    :param V: The potential function of the system.\n",
    "    :return: The Hamiltonian operator H of the system.\n",
    "    \"\"\"\n",
    "    \n",
    "    # The grad() function to take derivatives of the given wavefunction\n",
    "    grad = numpy.gradient\n",
    "    laplace = filters.laplace\n",
    "    \n",
    "    # In order to make the hamiltonian an operator, need to return a function \n",
    "    # that can be the operator\n",
    "    \n",
    "    # placeholder function to be returned, takes in the wavefunction as it's parameter\n",
    "    def foo(psi :numpy.ndarray):\n",
    "        \"\"\"\n",
    "        The Hamiltonian Operator H, operates on the given wavefunction psi according\n",
    "        to the Schrodinger Time Indepedent Equation:\n",
    "        H = -(hbar^2)/(2m) * d^2/dx^2 + V(x)\n",
    "        :param psi: The wavefunction of the system.\n",
    "        :return: The energy E of the wavefunction.\n",
    "        \"\"\"\n",
    "        # Since the Hamiltonian represents the Energy of the system, it can be split \n",
    "        # into the potential energy (V) and kinetic energy (T) \n",
    "        \n",
    "        # The potential energy combined with the wavefunction.\n",
    "        Vp = V * psi\n",
    "        # The kinetic energy operated on the waefunction, using the pre-calculated\n",
    "        # factor of -hbar^2 / 2m.\n",
    "        # Tp = factor * grad(grad(psi))\n",
    "        # Tp = factor * numpy.sum(grad(grad(psi)))\n",
    "        Tp = factor * laplace(psi, mode = \"nearest\")\n",
    "        # H = Tp + Vp\n",
    "        return Tp + Vp\n",
    "    # return the operator function\n",
    "    return foo"
   ],
   "metadata": {
    "collapsed": false,
    "pycharm": {
     "name": "#%%\n",
     "is_executing": false
    }
   }
  },
  {
   "cell_type": "markdown",
   "metadata": {
    "pycharm": {
     "is_executing": false,
     "name": "#%% md\n"
    }
   },
   "source": [
    "The normalisation condition for $\\psi$ id that:\n",
    "\n",
    "$$\\int|\\psi|^2dx=1$$\n",
    "\n",
    "for a given non-normalised wavefunction the condition is:\n",
    "\n",
    "$$\\int{|\\psi|^2dx}=A^2$$ for some constant $A$.\n",
    "\n",
    "Thus the normalised $\\psi_0$ is given by: $\\psi_0=\\frac{\\psi}{A}$. "
   ]
  },
  {
   "cell_type": "code",
   "execution_count": 47,
   "outputs": [],
   "source": [
    "def normalise_psi(psi: numpy.ndarray):\n",
    "    \"\"\"\n",
    "    Normalises the given wavefunction so that it's magnitude integrated over it's \n",
    "    extent is 1.\n",
    "    :param psi: The wavefunction to normalise\n",
    "    :return: A normalised ndarray of the wavefunction psi.\n",
    "    \"\"\"\n",
    "    # Can't use:\n",
    "    # norm = expectation_value(lambda p: p, psi)\n",
    "    # Due to recursive loop, solution is to make this function \n",
    "    # stand alone.\n",
    "\n",
    "    # Get the complex conjugate of the wavefunction\n",
    "    psi_star = psi.conj()\n",
    "    # Get the magnitude of the wavefunction by multiply the original and conjugate\n",
    "    # parts.\n",
    "    mag_psi = psi_star * psi\n",
    "\n",
    "    # Get the integration of this magnitude\n",
    "    norm = integrate.romb(mag_psi)\n",
    "    \n",
    "    # Normalise the wavefunction by the square root of the norm.\n",
    "    norm_psi = psi / numpy.sqrt(norm)\n",
    "\n",
    "    return norm_psi"
   ],
   "metadata": {
    "collapsed": false,
    "pycharm": {
     "name": "#%%\n",
     "is_executing": false
    }
   }
  },
  {
   "cell_type": "markdown",
   "metadata": {
    "pycharm": {
     "name": "#%% md\n"
    }
   },
   "source": [
    "Function to evaluate the general expectation value $< Q >$ for a given operator \n",
    "$Q(\\bar{r}, \\hat\\rho)$ according to the condition:\n",
    "\n",
    "$$\\int{\\psi^*\\hat{Q}\\psi dr}= < Q >$$"
   ]
  },
  {
   "cell_type": "code",
   "execution_count": 48,
   "metadata": {
    "pycharm": {
     "is_executing": false,
     "name": "#%%\n"
    }
   },
   "outputs": [],
   "source": [
    "def expectation_value(Q, psi: numpy.ndarray):\n",
    "    \"\"\"\n",
    "    Calculates the general expectation <Q> for the general operator Q.\n",
    "    :param Q: Any operator on psi. \n",
    "    :param psi: The wavefunction to operate on\n",
    "    :return: The expectation <Q> of the operator.\n",
    "    \"\"\"\n",
    "    # TODO: add check for if it's already normalised?\n",
    "    # may be more efficient when large arrays are involved\n",
    "    psi = normalise_psi(psi)\n",
    "    # Get the complex conjugate of the wavefunction\n",
    "    psi_star = psi.conjugate()\n",
    "    # The condition to integrate\n",
    "    integrand = psi_star * Q(psi)\n",
    "\n",
    "    return integrate.romb(integrand)"
   ]
  },
  {
   "cell_type": "markdown",
   "metadata": {
    "pycharm": {
     "is_executing": false,
     "name": "#%% md\n"
    }
   },
   "source": [
    "Calculate the $< E >$ energy expectation value using the hamiltonian operator $\\hat H$."
   ]
  },
  {
   "cell_type": "code",
   "execution_count": 49,
   "outputs": [],
   "source": [
    "def energy_expectation(psi :numpy.ndarray):\n",
    "    \"\"\"\n",
    "    Calculates the expectation value for the energy of the given wavefunction \n",
    "    representing a particle.\n",
    "    :param psi: The wavefunction to get the energy of.\n",
    "    :return: The <E> a scalar of the energy of the particle in the system.\n",
    "    \"\"\"\n",
    "    # Get the potential of the system\n",
    "    V = potential(x)\n",
    "    # Get the Hamiltonian of the system\n",
    "    H = hamiltonian(V)\n",
    "    # Calculate <H> which is the equivalent to <E>\n",
    "    return expectation_value(H, psi)\n"
   ],
   "metadata": {
    "collapsed": false,
    "pycharm": {
     "name": "#%%\n",
     "is_executing": false
    }
   }
  },
  {
   "cell_type": "markdown",
   "source": [
    "# Definitions:"
   ],
   "metadata": {
    "collapsed": false
   }
  },
  {
   "cell_type": "markdown",
   "source": [
    "The bounds for the problem\n",
    "\n",
    "_x_min_ is the minimum value of x,\n",
    "\n",
    "_x_max_ is the maximum value of x,\n",
    "\n",
    "_x_step_ is the spacing between values,\n",
    "\n",
    "_number _samples_ is the integer to define\n",
    "the total number of samples to take, actual value is\n",
    "$2^n +1 $ "
   ],
   "metadata": {
    "collapsed": false
   }
  },
  {
   "cell_type": "code",
   "execution_count": 50,
   "outputs": [],
   "source": [
    "x_min = -20\n",
    "x_max = -x_min\n",
    "n = 10\n",
    "number_samples = 2**n + 1 # for romberg integration\n",
    "x_step = (x_max - x_min) / number_samples # make the step accurate"
   ],
   "metadata": {
    "collapsed": false,
    "pycharm": {
     "name": "#%%\n",
     "is_executing": false
    }
   }
  },
  {
   "cell_type": "markdown",
   "source": [
    "Calculate the _x_ variable"
   ],
   "metadata": {
    "collapsed": false
   }
  },
  {
   "cell_type": "code",
   "execution_count": 51,
   "outputs": [],
   "source": [
    "x = numpy.linspace(x_min, x_max, number_samples)"
   ],
   "metadata": {
    "collapsed": false,
    "pycharm": {
     "name": "#%%\n",
     "is_executing": false
    }
   }
  },
  {
   "cell_type": "markdown",
   "source": [
    "Initial calculation of the optimum ground state wavefunction for the given potential\n",
    "using a randomisation method"
   ],
   "metadata": {
    "collapsed": false,
    "pycharm": {
     "name": "#%% md\n",
     "is_executing": false
    }
   }
  },
  {
   "cell_type": "code",
   "execution_count": 52,
   "outputs": [],
   "source": [
    "# potential = finite_square_well\n",
    "potential = finite_square_well"
   ],
   "metadata": {
    "collapsed": false,
    "pycharm": {
     "name": "#%%\n",
     "is_executing": false
    }
   }
  },
  {
   "cell_type": "code",
   "execution_count": 53,
   "outputs": [],
   "source": [
    "def ground_state(psi_start : numpy.ndarray, number_iterations : int, seed = \"The Variational Principle\"):\n",
    "    \n",
    "    # Set the default wavefunction\n",
    "    psi = psi_start\n",
    "    #Set the E\n",
    "    E = energy_expectation(psi)\n",
    "    # E = 10\n",
    "    # Get the number of entries in the psi array to generate the random index between.\n",
    "    number_entries = len(psi)\n",
    "    \n",
    "    # Get the random number generator, uses the given seed so that the results are repeateable\n",
    "    rand = random.seed(seed)\n",
    "    \n",
    "    # Iterate for the number of desired iterations\n",
    "    for i in range(number_iterations):\n",
    "        \n",
    "        # Get a random x coord to sample\n",
    "        rand_x = random.randrange(0, number_entries)\n",
    "        \n",
    "        # Generate a random number to alter the entry by.\n",
    "        rand_tweak = random.random()\n",
    "        \n",
    "        # TODO: remove this repeat calculation for optimisation\n",
    "        # Get the current energy for reference.\n",
    "        # E = energy_expectation(psi)\n",
    "        \n",
    "        # Tweak the value in psi upward\n",
    "        psi[rand_x] += rand_tweak\n",
    "        E_up = energy_expectation(psi)\n",
    "        \n",
    "        # Tweak the value in psi downward from the original psi value\n",
    "        psi[rand_x] -= 2 * rand_tweak\n",
    "        E_down = energy_expectation(psi)\n",
    "        \n",
    "        # reset psi to the original value\n",
    "        psi[rand_x] += rand_tweak\n",
    "        \n",
    "        # Compare energies for tweaking the entry up versus down, and keep the change\n",
    "        # that results in a lower overall expectation value for the energy.\n",
    "        if E_up < E_down and E_up < E:\n",
    "            # If increasing the value in the entry results in a lower overall <E>\n",
    "            # set the change and keep it\n",
    "            psi[rand_x] += 2 * rand_tweak\n",
    "            E = E_up\n",
    "        elif E_down < E_up and E_down < E:\n",
    "            # If decreasing the entry results in a lower overall <E>,\n",
    "            # reduce the value and keep it.\n",
    "            psi[rand_x] -= 2 * rand_tweak\n",
    "            E = E_down\n",
    "        # otherwise the psi should be left unchanged.\n",
    "    \n",
    "    # Normalise the final wavefunction\n",
    "    psi = normalise_psi(psi)\n",
    "    return psi"
   ],
   "metadata": {
    "collapsed": false,
    "pycharm": {
     "name": "#%%\n",
     "is_executing": false
    }
   }
  },
  {
   "cell_type": "code",
   "execution_count": 54,
   "outputs": [
    {
     "data": {
      "text/plain": "<Figure size 432x288 with 1 Axes>",
      "image/png": "[encoded data removed]"
     },
     "metadata": {
      "needs_background": "light"
     },
     "output_type": "display_data"
    },
    {
     "data": {
      "text/plain": "<Figure size 432x288 with 1 Axes>",
      "image/png": "[encoded data removed]"
     },
     "metadata": {
      "needs_background": "light"
     },
     "output_type": "display_data"
    }
   ],
   "source": [
    "# The number of times to generate a random number.\n",
    "# number_iterations = 5000\n",
    "# number_iterations = 1000\n",
    "number_iterations = 50000\n",
    "# number_iterations = 5000000\n",
    "\n",
    "# Set the default wavefunction\n",
    "psi = numpy.linspace(0.2, 0.2, number_samples)\n",
    "\n",
    "# Plot the wavefunction versus the potential for visualisation\n",
    "plt.plot(x, psi)\n",
    "plt.plot(x, potential(x))\n",
    "plt.legend((\"$\\psi$\", \"V\"))\n",
    "plt.show()\n",
    "\n",
    "psi = ground_state(psi, number_iterations)\n",
    "\n",
    "# plot the final wavefunction. \n",
    "plt.plot(x, psi)\n",
    "# plt.plot(x, potential(x))\n",
    "plt.show()"
   ],
   "metadata": {
    "collapsed": false,
    "pycharm": {
     "name": "#%%\n",
     "is_executing": false
    }
   }
  },
  {
   "cell_type": "code",
   "execution_count": 55,
   "outputs": [],
   "source": [
    "# import time\n",
    "# \n",
    "# nums = [5, 50, 500, 5000, 50000]\n",
    "# times = []\n",
    "# for number_iterations in nums:\n",
    "#     psi = numpy.linspace(0.2, 0.2, number_samples)\n",
    "#     t1 = time.time()\n",
    "#     psi = ground_state(psi, number_iterations)\n",
    "#     t2 = time.time()\n",
    "#     time_elapsed = t2 - t1\n",
    "#     times += [time_elapsed]\n",
    "# \n",
    "#     print(\"N:\", number_iterations)\n",
    "#     print(\"dt:\", time_elapsed)\n",
    "# \n",
    "#     plt.plot(x, psi)\n",
    "#     plt.show()\n",
    "# \n",
    "# plt.plot(nums, times)\n",
    "# plt.show()"
   ],
   "metadata": {
    "collapsed": false,
    "pycharm": {
     "name": "#%%\n",
     "is_executing": false
    }
   }
  },
  {
   "cell_type": "code",
   "execution_count": 56,
   "outputs": [],
   "source": [
    "# Keep the wavefunction generated for reference.\n",
    "saved_psi = psi"
   ],
   "metadata": {
    "collapsed": false,
    "pycharm": {
     "name": "#%%\n",
     "is_executing": false
    }
   }
  },
  {
   "cell_type": "markdown",
   "source": [
    "Perform Fourier Analysis on the produced wavefunction to reduce the noise on the\n",
    "solution."
   ],
   "metadata": {
    "collapsed": false,
    "pycharm": {
     "name": "#%% md\n",
     "is_executing": false
    }
   }
  },
  {
   "cell_type": "code",
   "execution_count": 57,
   "outputs": [
    {
     "data": {
      "text/plain": "<Figure size 432x288 with 1 Axes>",
      "image/png": "[encoded data removed]"
     },
     "metadata": {
      "needs_background": "light"
     },
     "output_type": "display_data"
    },
    {
     "data": {
      "text/plain": "<Figure size 432x288 with 1 Axes>",
      "image/png": "[encoded data removed]"
     },
     "metadata": {
      "needs_background": "light"
     },
     "output_type": "display_data"
    },
    {
     "data": {
      "text/plain": "<Figure size 432x288 with 1 Axes>",
      "image/png": "[encoded data removed]"
     },
     "metadata": {
      "needs_background": "light"
     },
     "output_type": "display_data"
    }
   ],
   "source": [
    "# Get the saved psi \n",
    "psi = saved_psi\n",
    "\n",
    "# Do the FT on the wavefunction\n",
    "fft_psi = fftpack.fft(psi)\n",
    "# Half the produced value as the FT is symmetric\n",
    "fft_psi = fft_psi[:int(len(fft_psi) / 2)]\n",
    "# plt.plot(x, fft_psi)\n",
    "\n",
    "# Plot the FT to visualise the results.\n",
    "plt.plot(fft_psi)\n",
    "plt.show()\n",
    "\n",
    "# Chop the FT to keep only the most important harmonics\n",
    "fft_psi = fft_psi[:25]\n",
    "# Plot the minimised FT\n",
    "plt.plot(fft_psi)\n",
    "plt.show()\n",
    "\n",
    "#Perform an inverse FT to get the smoothed wavefunction back\n",
    "psi = fftpack.ifft(fft_psi)\n",
    "\n",
    "# Normalise the result\n",
    "psi_conj = psi.conj()\n",
    "mod_psi = psi_conj * psi\n",
    "A = numpy.sqrt(integrate.simps(mod_psi))\n",
    "psi /= A\n",
    "\n",
    "# Plot the final wavefunction to show the result.   \n",
    "x_range = numpy.linspace(x_min, x_max, len(psi))\n",
    "plt.plot(x_range, psi)\n",
    "plt.title(\"Smoothed Wavefunction $\\psi$\")\n",
    "plt.xlabel(\"x\")\n",
    "plt.ylabel(\"$\\psi$\")\n",
    "plt.show()\n"
   ],
   "metadata": {
    "collapsed": false,
    "pycharm": {
     "name": "#%%\n",
     "is_executing": false
    }
   }
  }
 ],
 "metadata": {
  "kernelspec": {
   "display_name": "Python 3",
   "language": "python",
   "name": "python3"
  },
  "language_info": {
   "codemirror_mode": {
    "name": "ipython",
    "version": 3
   },
   "file_extension": ".py",
   "mimetype": "text/x-python",
   "name": "python",
   "nbconvert_exporter": "python",
   "pygments_lexer": "ipython3",
   "version": "3.7.6"
  },
  "pycharm": {
   "stem_cell": {
    "cell_type": "raw",
    "source": [],
    "metadata": {
     "collapsed": false
    }
   }
  }
 },
 "nbformat": 4,
 "nbformat_minor": 1
}