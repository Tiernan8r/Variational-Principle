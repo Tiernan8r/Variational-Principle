{
 "cells": [
  {
   "cell_type": "markdown",
   "source": [
    "# The Variational Principle"
   ],
   "metadata": {
    "collapsed": false
   }
  },
  {
   "cell_type": "markdown",
   "source": [
    "$$ \\hat{H}\\psi = E\\psi $$\n",
    "\n",
    "$$ [-\\frac{\\hbar^2}{2m}\\frac{\\partial^2}{\\partial x^2}+V(x)]\\psi=E\\psi $$"
   ],
   "metadata": {
    "collapsed": false
   }
  },
  {
   "cell_type": "markdown",
   "source": [
    "Run all the import statements initially"
   ],
   "metadata": {
    "collapsed": false
   }
  },
  {
   "cell_type": "code",
   "execution_count": 1,
   "outputs": [],
   "source": [
    "# Used for the generation of random numbers in ground state calculation\n",
    "import random\n",
    "# Used for plotting\n",
    "import matplotlib.pyplot as plt\n",
    "# Used for the numerical calculations\n",
    "import numpy\n",
    "# Used for Fourier Analysis of results\n",
    "from scipy import fftpack"
   ],
   "metadata": {
    "collapsed": false,
    "pycharm": {
     "name": "#%%\n",
     "is_executing": false
    }
   }
  },
  {
   "cell_type": "markdown",
   "source": [
    "Set the bounds of the calculation"
   ],
   "metadata": {
    "collapsed": false
   }
  },
  {
   "cell_type": "code",
   "execution_count": 2,
   "outputs": [],
   "source": [
    "lower_bound = -20\n",
    "upper_bound = -lower_bound"
   ],
   "metadata": {
    "collapsed": false,
    "pycharm": {
     "name": "#%%\n",
     "is_executing": false
    }
   }
  },
  {
   "cell_type": "markdown",
   "source": [
    "Set the number of entries in the arrays"
   ],
   "metadata": {
    "collapsed": false
   }
  },
  {
   "cell_type": "code",
   "execution_count": 3,
   "outputs": [],
   "source": [
    "number_points = 2 ** 10 + 1"
   ],
   "metadata": {
    "collapsed": false,
    "pycharm": {
     "name": "#%%\n",
     "is_executing": false
    }
   }
  },
  {
   "cell_type": "markdown",
   "source": [
    "Calculate the spacing between points in the arrays, spanning the bounds."
   ],
   "metadata": {
    "collapsed": false
   }
  },
  {
   "cell_type": "code",
   "execution_count": 4,
   "outputs": [],
   "source": [
    "step_size = (upper_bound - lower_bound) / number_points\n",
    "inv_h_sq = step_size ** -2\n",
    "half_h = step_size * 0.5"
   ],
   "metadata": {
    "collapsed": false,
    "pycharm": {
     "name": "#%%\n",
     "is_executing": false
    }
   }
  },
  {
   "cell_type": "markdown",
   "source": [
    "Set the value of $\\hbar$ and $m$ used in the Schrodinger Equation and calculate the \n",
    "value of $-\\frac{\\hbar^2}{2m}$ as it's reused constantly in calculations.\n",
    "\n",
    "Values taken from Wikipedia:\n",
    "* $\\hbar$: https://en.wikipedia.org/wiki/Planck_constant\n",
    "* $m$: https://en.wikipedia.org/wiki/Electron"
   ],
   "metadata": {
    "collapsed": false
   }
  },
  {
   "cell_type": "code",
   "execution_count": 5,
   "outputs": [],
   "source": [
    "hbar = 1.054571817 * 10 ** -34  # eV\n",
    "m = 9.1093837015 * 10 ** -31  # kg"
   ],
   "metadata": {
    "collapsed": false,
    "pycharm": {
     "name": "#%%\n",
     "is_executing": false
    }
   }
  },
  {
   "cell_type": "markdown",
   "source": [
    "Calculate the factor term as it's a constant and is reused throughout in calculations."
   ],
   "metadata": {
    "collapsed": false
   }
  },
  {
   "cell_type": "code",
   "execution_count": 6,
   "outputs": [],
   "source": [
    "factor = -(hbar ** 2) / (2 * m)"
   ],
   "metadata": {
    "collapsed": false,
    "pycharm": {
     "name": "#%%\n",
     "is_executing": false
    }
   }
  },
  {
   "cell_type": "markdown",
   "source": [
    "Calculate the x span of the bounds and use it to generate\n",
    " the potential of the system."
   ],
   "metadata": {
    "collapsed": false
   }
  },
  {
   "cell_type": "code",
   "execution_count": 7,
   "outputs": [],
   "source": [
    "x = numpy.linspace(lower_bound, upper_bound, num=number_points)"
   ],
   "metadata": {
    "collapsed": false,
    "pycharm": {
     "name": "#%%\n",
     "is_executing": false
    }
   }
  },
  {
   "cell_type": "markdown",
   "source": [
    "Define the potential function, it is a scalar function that has the same length as \n",
    "the given $\\bar{r}$"
   ],
   "metadata": {
    "collapsed": false
   }
  },
  {
   "cell_type": "markdown",
   "source": [
    "Create sub potential functions that can be implemented in the main function for \n",
    "analytically solved examples:"
   ],
   "metadata": {
    "collapsed": false
   }
  },
  {
   "cell_type": "code",
   "execution_count": 8,
   "outputs": [],
   "source": [
    "def free_particle(r : numpy.ndarray):\n",
    "    \"\"\"\n",
    "    The free particle potential represents an unbound particle in zero potential.\n",
    "    :param r: The coordinates of the potential values\n",
    "    :return: The free particle potential.\n",
    "    \"\"\"\n",
    "    # The free particle has no potential.\n",
    "    return numpy.zeros(len(r))"
   ],
   "metadata": {
    "collapsed": false,
    "pycharm": {
     "name": "#%%\n",
     "is_executing": false
    }
   }
  },
  {
   "cell_type": "code",
   "execution_count": 9,
   "outputs": [],
   "source": [
    "def finite_square_well(r : numpy.ndarray, V_0 = 1.0, wall_bounds = (200, 800)):\n",
    "    \"\"\"\n",
    "    The infinite square well has defined potential within the bounds.\n",
    "    :param r: The coordinates of the potential values.\n",
    "    :param V_0: The potential value outside of the well\n",
    "    :param wall_bounds: The points at which the well boundary starts. \n",
    "    :return: The infinite potential well function. \n",
    "    \"\"\"\n",
    "    # Get the number of points along the axis\n",
    "    num_points = len(r)\n",
    "    # The first number in wall_bounds is the index of the first well wall\n",
    "    lower = wall_bounds[0]\n",
    "    # the index of the second wall is the second index in wall_bounds \n",
    "    upper = num_points - wall_bounds[1]\n",
    "    \n",
    "    # Create the potential barrier of the well.\n",
    "    lower_wall = numpy.array([V_0] * lower)\n",
    "    # inside the well the potential is 0\n",
    "    zeroes = numpy.zeros(num_points - lower - upper)\n",
    "    # second potential barrier\n",
    "    upper_wall = numpy.array([V_0] * upper)\n",
    "    # Make the potential the combination of all the sections\n",
    "    pot = numpy.concatenate((lower_wall, zeroes, upper_wall))\n",
    "    \n",
    "    return pot\n"
   ],
   "metadata": {
    "collapsed": false,
    "pycharm": {
     "name": "#%%\n",
     "is_executing": false
    }
   }
  },
  {
   "cell_type": "code",
   "execution_count": 10,
   "outputs": [],
   "source": [
    "def infinite_square_well(r : numpy.ndarray, wall_bounds = (200, 800)):\n",
    "    \"\"\"\n",
    "    The infinite square well has defined potential within the bounds.\n",
    "    :param r: The coordinates of the potential values.\n",
    "    :param wall_bounds: The points at which the well boundary starts.\n",
    "    :return: The infinite potential well function.\n",
    "    \"\"\"\n",
    "    # Use the finite square well with infinite barriers.\n",
    "    return finite_square_well(r, numpy.inf, wall_bounds)"
   ],
   "metadata": {
    "collapsed": false,
    "pycharm": {
     "name": "#%%\n",
     "is_executing": false
    }
   }
  },
  {
   "cell_type": "code",
   "execution_count": 11,
   "outputs": [],
   "source": [
    "def harmonic_oscillator(r : numpy.ndarray, k = 0.01):\n",
    "    \"\"\"\n",
    "    The Harmonic Oscillator potential is quadratic about the origin.\n",
    "    :param r: The coordinates of the potential values.\n",
    "    :param k: Hooke's constant for the system\n",
    "    :return: The harmonic potential.\n",
    "    \"\"\"\n",
    "    # The potential energy formula:\n",
    "    return 0.5 * k * r**2"
   ],
   "metadata": {
    "collapsed": false,
    "pycharm": {
     "name": "#%%\n",
     "is_executing": false
    }
   }
  },
  {
   "cell_type": "code",
   "execution_count": 12,
   "outputs": [],
   "source": [
    "def potential(r :numpy.ndarray):\n",
    "    \"\"\"\n",
    "    The potential energy function of the system.\n",
    "    :param r: The points on the axes of the system. \n",
    "    :return: A scalar ndarray of the values of the potential at each point in r. \n",
    "    \"\"\"\n",
    "    \n",
    "    return harmonic_oscillator(r, 0.01)\n",
    "    # return finite_square_well(r, 1, (200, 800))\n",
    "    # return infinite_square_well(r, (200, 800))\n",
    "    # return free_particle(r)"
   ],
   "metadata": {
    "collapsed": false,
    "pycharm": {
     "name": "#%%\n",
     "is_executing": false
    }
   }
  },
  {
   "cell_type": "code",
   "execution_count": 13,
   "outputs": [],
   "source": [
    "V = potential(x)"
   ],
   "metadata": {
    "collapsed": false,
    "pycharm": {
     "name": "#%%\n",
     "is_executing": false
    }
   }
  },
  {
   "cell_type": "markdown",
   "source": [
    "Define global arrays used in the calculations of the ground state so that when an \n",
    "entry is changed, on the corresponding values for that change in each array needs\n",
    "t be tweaked instead of recalculating values for the entry array.\n",
    "\n",
    "This way, computation time is greatly reduced, at the expense of ease of comprehension\n",
    "of the code."
   ],
   "metadata": {
    "collapsed": false
   }
  },
  {
   "cell_type": "code",
   "execution_count": 14,
   "outputs": [],
   "source": [
    "# Array containing all the H(psi), the hamiltonian operated on the wavefunction\n",
    "global hamiltonians_array\n",
    "# The tiny psi x H(psi)\n",
    "global infinitesimal_energy_expectations\n",
    "# The actual [psi x H(psi)]dx to sum over\n",
    "global energies_array\n",
    "# Array of magnitudes of the psi\n",
    "global mag_psi\n",
    "# The integrated magnitude of the wavefunction to sum over\n",
    "global normalisation_array\n",
    "# psi itself\n",
    "global psi"
   ],
   "metadata": {
    "collapsed": false,
    "pycharm": {
     "name": "#%%\n",
     "is_executing": false
    }
   }
  },
  {
   "cell_type": "markdown",
   "source": [
    "Set the values of the arrays to be defaults."
   ],
   "metadata": {
    "collapsed": false
   }
  },
  {
   "cell_type": "code",
   "execution_count": 15,
   "outputs": [],
   "source": [
    "hamiltonians_array = numpy.zeros(number_points, dtype=complex)\n",
    "\n",
    "infinitesimal_energy_expectations = numpy.zeros(number_points)\n",
    "energies_array = numpy.zeros(number_points)\n",
    "normalisation_array = numpy.zeros(number_points)\n",
    "\n",
    "psi = numpy.linspace(1, 1, number_points, dtype=complex)\n",
    "mag_psi = (psi.conj() * psi).real"
   ],
   "metadata": {
    "collapsed": false,
    "pycharm": {
     "name": "#%%\n",
     "is_executing": false
    }
   }
  },
  {
   "cell_type": "markdown",
   "source": [
    "Set the number of samples to generate when calculating the ground state of the\n",
    "wavefunction"
   ],
   "metadata": {
    "collapsed": false
   }
  },
  {
   "cell_type": "code",
   "execution_count": 16,
   "outputs": [],
   "source": [
    "number_iterations = 50000"
   ],
   "metadata": {
    "collapsed": false,
    "pycharm": {
     "name": "#%%\n",
     "is_executing": false
    }
   }
  },
  {
   "cell_type": "markdown",
   "source": [
    "The `re_integrate()` function calculates the integration of a given function `f` at\n",
    "the index `i` using the rectangular rule"
   ],
   "metadata": {
    "collapsed": false
   }
  },
  {
   "cell_type": "code",
   "execution_count": 17,
   "outputs": [],
   "source": [
    "def re_integrate(i: int, f: numpy.ndarray, step=step_size):\n",
    "    # rectangular rule, at only the given index to change the array\n",
    "    # sum the array after\n",
    "\n",
    "    # Rectangular Rule:\n",
    "    return f[i] * step"
   ],
   "metadata": {
    "collapsed": false,
    "pycharm": {
     "name": "#%%\n",
     "is_executing": false
    }
   }
  },
  {
   "cell_type": "markdown",
   "source": [
    "The method `second_derivative()` calculates the second derivative $\\frac{d^2}{dx^2}$ of a give function `f` at\n",
    "the index `i`. The default computation method is the 2nd order central difference method:\n",
    "$$ f''(x)= \\frac{f(x + h) - 2f(x) +f(x - h)}{h^2}$$ for the central bounds.\n",
    "\n",
    "If `wrap` is `False`: The edge cases are calculated using the 2nd order backward and forward differences\n",
    "respectively.\n",
    "\n",
    "Forward: $$f''(x)=\\frac{f(x) - 2f(x + h) - f(x + 2h)}{h^2}$$\n",
    "\n",
    "Backward: $$f''(x)=\\frac{f(x) - 2f(x-h) + f(x - 2h)}{h^2}$$\n",
    "\n",
    "https://en.wikipedia.org/wiki/Finite_difference"
   ],
   "metadata": {
    "collapsed": false
   }
  },
  {
   "cell_type": "code",
   "execution_count": 18,
   "outputs": [],
   "source": [
    "def second_derivative(f: numpy.ndarray, i: int, wrap=False):\n",
    "    \"\"\"\n",
    "    Calculates the 2nd order finite difference on the array f at the index i. If wrap is False,\n",
    "    The edge cases are calculated using the forward and backward differences respectively, otherwise the central\n",
    "    difference method is used throughout.\n",
    "    :param f: The array to perform the differentiation on.\n",
    "    :param i: The index to perform the differentiation at.\n",
    "    :param wrap: Whether the edge cases wrap around or not.\n",
    "    :return: The second order derivative at the index i.\n",
    "    \"\"\"\n",
    "    # https: // en.wikipedia.org / wiki / Finite_difference\n",
    "    # h = step size\n",
    "    # Centre difference 2nd Derivative: d^2f / dx^2 = f''(x):\n",
    "    # 1/h**2 * [f_i+1 - 2f_i + f_i-1]\n",
    "    length = len(f)\n",
    "\n",
    "    if not wrap and i + 1 >= length:\n",
    "        # Use second order backward instead:\n",
    "        # f'' = 1/h**2 * [f_i + f_i-2 - 2f_i-1]\n",
    "        f_i = f[i]\n",
    "        f_i_minus_1 = f[i - 1]\n",
    "        f_i_minus_2 = f[i - 2]\n",
    "\n",
    "        div2 = inv_h_sq * (f_i - 2 * f_i_minus_1 + f_i_minus_2)\n",
    "        return div2\n",
    "\n",
    "    if not wrap and i - 1 < 0:\n",
    "        # Use second order forward instead:\n",
    "        # f'' = 1/h**2 * [f_i + f_i+2 - 2f_i+1]\n",
    "        f_i = f[i]\n",
    "        f_i_plus_1 = f[i + 1]\n",
    "        f_i_plus_2 = f[i + 2]\n",
    "\n",
    "        div2 = inv_h_sq * (f_i - 2 * f_i_plus_1 + f_i_plus_2)\n",
    "        return div2\n",
    "\n",
    "    # Prevent the index going out of range, by looping back the index if it's too high\n",
    "    f_i_plus_1 = f[(i + 1) % length]\n",
    "    # Assume that the current index is in range\n",
    "    f_i = f[i]\n",
    "    # The lower index inherently loops back using negative indexing\n",
    "    f_i_minus_1 = f[i - 1]\n",
    "\n",
    "    # Current derivative.\n",
    "    deriv_2 = inv_h_sq * (f_i_plus_1 - 2 * f_i + f_i_minus_1)\n",
    "    return deriv_2"
   ],
   "metadata": {
    "collapsed": false,
    "pycharm": {
     "name": "#%%\n",
     "is_executing": false
    }
   }
  },
  {
   "cell_type": "markdown",
   "source": [
    "Calculates the Hamiltonian operator on the given wavefunction `psi` for the given\n",
    "index, using the following equation:\n",
    "\n",
    "$$\\hat H  \\psi= -\\frac{\\hbar ^2}{2m} \\frac{d^2}{dx^2}\\psi + V(x)\\psi$$\n",
    "\n",
    "The index given corresponds to a coordinate $x$ where $\\psi = \\psi(x)$"
   ],
   "metadata": {
    "collapsed": false
   }
  },
  {
   "cell_type": "code",
   "execution_count": 19,
   "outputs": [],
   "source": [
    "def hamiltonian(psi: numpy.ndarray, i: int):\n",
    "    \"\"\"\n",
    "    Calculates the Hamiltonian of the given psi wavefunction at the given index in the array.\n",
    "    :param psi: The wavefunction to operate on.\n",
    "    :param i: The index to do the operation at.\n",
    "    :return: The hamiltonian value at index i for the given psi.\n",
    "    \"\"\"\n",
    "\n",
    "    # The kinetic energy section: T = d^2/dx^2 * psi\n",
    "    Tp_i = factor * second_derivative(psi, i)\n",
    "    # The potential energy section: scalar * psi\n",
    "    Vp_i = V[i] * psi[i]\n",
    "\n",
    "    return Tp_i + Vp_i"
   ],
   "metadata": {
    "collapsed": false,
    "pycharm": {
     "name": "#%%\n",
     "is_executing": false
    }
   }
  },
  {
   "cell_type": "markdown",
   "source": [
    "Calculates the value of <E\\> at the give index `i` by taking the finite integral\n",
    "at that index of:\n",
    "$$\\psi^*\\hat H \\psi$$ \n",
    "\n",
    "Later by summing over the array that these <E\\> are stored in, we get the\n",
    "approximation of <E\\>=$\\int{\\psi^*\\hat{H}\\psi dx}$ \n",
    "as <E\\> = $\\sum{E_i}=\\sum{\\psi^*\\hat{H}\\psi}$"
   ],
   "metadata": {
    "collapsed": false
   }
  },
  {
   "cell_type": "code",
   "execution_count": 20,
   "outputs": [],
   "source": [
    "def recalculate_energy_arrays(psi: numpy.ndarray, i: int):\n",
    "    \"\"\"\n",
    "    Recalculates the <E> at the given i for the given psi.\n",
    "    :param psi: The wavefunction to use for the expectation value.\n",
    "    :param i: The index to perform the calculation at.\n",
    "    \"\"\"\n",
    "    # psi*\n",
    "    # H psi\n",
    "    # I = psi* x H psi\n",
    "    # get at index i\n",
    "    # Change array entry at only this point,\n",
    "    # Then sum the array\n",
    "    global hamiltonians_array\n",
    "    global energies_array\n",
    "    global infinitesimal_energy_expectations\n",
    "\n",
    "    # alters the H*psi value at index i\n",
    "    hamiltonians_array[i] = hamiltonian(psi, i)\n",
    "\n",
    "    # The value computed will be real, with a 0 imaginary component,\n",
    "    # convert it to pure real number.\n",
    "    infinitesimal_energy_expectations[i] = (psi[i].conj() * hamiltonians_array[i]).real\n",
    "\n",
    "    # Set the energy value to be the finite integral for this point\n",
    "    energies_array[i] = re_integrate(i, infinitesimal_energy_expectations)"
   ],
   "metadata": {
    "collapsed": false,
    "pycharm": {
     "name": "#%%\n",
     "is_executing": false
    }
   }
  },
  {
   "cell_type": "markdown",
   "source": [
    "The final <E\\> value:\n",
    "Calculated as:\n",
    "\n",
    "<E\\> = $$ \\frac{\\int{\\psi^* \\hat{H} \\psi dx}}{\\int{\\psi^*\\psi dx}}$$"
   ],
   "metadata": {
    "collapsed": false
   }
  },
  {
   "cell_type": "code",
   "execution_count": 21,
   "outputs": [],
   "source": [
    "def energy_expectation():\n",
    "    \"\"\"\n",
    "    Calculates the <E> energy expectation value from the energues_array array\n",
    "    :return: The energy expectation value <E> as a scalar.\n",
    "    \"\"\"\n",
    "\n",
    "    # Get the total energy value from the array\n",
    "    non_normalised_E = numpy.sum(energies_array).real\n",
    "    # get the normalisation factor\n",
    "    norm = numpy.sum(normalisation_array)\n",
    "    # normalise the <E>\n",
    "    normalised_E = non_normalised_E / norm\n",
    "    return normalised_E"
   ],
   "metadata": {
    "collapsed": false,
    "pycharm": {
     "name": "#%%\n",
     "is_executing": false
    }
   }
  },
  {
   "cell_type": "markdown",
   "source": [
    "After each change in the value of $\\psi$ at the index `i` the corresponding magnitude\n",
    "$|\\psi|^2=\\psi^*\\psi$ needs to be recalculated, as well as it's integration \n",
    "$|\\psi|^2 dx$ for the calculation $\\sum{|\\psi|^2}dx \\approx \\int{|\\psi|^2dx}$."
   ],
   "metadata": {
    "collapsed": false
   }
  },
  {
   "cell_type": "code",
   "execution_count": 22,
   "outputs": [],
   "source": [
    "def recalculate_normalisation_arrays(psi: numpy.ndarray, i: int):\n",
    "    \"\"\"\n",
    "    Recalculates the normalisation for the given psi wavefunction at the index i.\n",
    "    :param psi: The wavefunction to re normalise.\n",
    "    :param i: The index to perform the normalisation at.\n",
    "    \"\"\"\n",
    "    global mag_psi\n",
    "    global normalisation_array\n",
    "\n",
    "    # Recalculate the complex magnitude of psi at this entry\n",
    "    mag_psi[i] = (psi[i].conj() * psi[i]).real\n",
    "    # find the finite integral of this magnitude and add it to\n",
    "    # the normalisation array.\n",
    "    normalisation_array[i] = re_integrate(i, mag_psi).real"
   ],
   "metadata": {
    "collapsed": false,
    "pycharm": {
     "name": "#%%\n",
     "is_executing": false
    }
   }
  },
  {
   "cell_type": "markdown",
   "source": [
    "Changes the value of $\\psi$ at the given index by the give amount, and recalculates\n",
    "the corresponding norms and energies."
   ],
   "metadata": {
    "collapsed": false
   }
  },
  {
   "cell_type": "code",
   "execution_count": 23,
   "outputs": [],
   "source": [
    "def tweak_psi(psi: numpy.ndarray, pos: int, tweak: complex):\n",
    "    \"\"\"\n",
    "    Changes the given wavefunction at the given index by the given amount, and renormalises the result.\n",
    "    Calculates the new <E> for this changed wave function as well.\n",
    "    :param psi: The wavefunction to modify.\n",
    "    :param pos: The index of the wavefunction to modify.\n",
    "    :param tweak: The amount to modify by.\n",
    "    :return: The wavefunction's <E>.\n",
    "    \"\"\"\n",
    "    # Tweak the value in psi by the given amount\n",
    "    psi[pos] += tweak\n",
    "\n",
    "    # Recompute the normalisation for this entry\n",
    "    recalculate_normalisation_arrays(psi, pos)\n",
    "    # Re normalise psi\n",
    "    # psi = normalise(psi)\n",
    "    # normalise_arrays()\n",
    "\n",
    "    # Re calculate the energy at this entry as well\n",
    "    recalculate_energy_arrays(psi, pos)\n",
    "    # The tweaked energy value is the new <E>\n",
    "    E_new = energy_expectation()\n",
    "\n",
    "    # return psi, E_new\n",
    "    return E_new"
   ],
   "metadata": {
    "collapsed": false,
    "pycharm": {
     "name": "#%%\n",
     "is_executing": false
    }
   }
  },
  {
   "cell_type": "markdown",
   "source": [
    "Normalises the $\\psi$ wavefunction using the norms logged each tweak above."
   ],
   "metadata": {
    "collapsed": false
   }
  },
  {
   "cell_type": "code",
   "execution_count": 24,
   "outputs": [],
   "source": [
    "def normalise_psi(psi: numpy.ndarray):\n",
    "    \"\"\"\n",
    "    Normalises the given psi by it's normalisation factor from normalisation_array.\n",
    "    :param psi: The wavefunction to normalise.\n",
    "    :return: The normalised wavefunction.\n",
    "    \"\"\"\n",
    "    \n",
    "    global normalisation_array\n",
    "    global mag_psi\n",
    "\n",
    "    # Get the norm from the summation\n",
    "    norm = numpy.sum(normalisation_array)\n",
    "    # normalise the mag_psi values\n",
    "    mag_psi /= norm\n",
    "    # normalise the wavefunction\n",
    "    psi /= numpy.sqrt(norm)\n",
    "    # normalise the normalisation array\n",
    "    normalisation_array /= norm\n",
    "\n",
    "    # return the normalised wavefunction.\n",
    "    return psi"
   ],
   "metadata": {
    "collapsed": false,
    "pycharm": {
     "name": "#%%\n",
     "is_executing": false
    }
   }
  },
  {
   "cell_type": "markdown",
   "source": [
    "Calculates the ground state wavefunction of the system with a give potential `V`."
   ],
   "metadata": {
    "collapsed": false
   }
  },
  {
   "cell_type": "code",
   "execution_count": 25,
   "outputs": [],
   "source": [
    "def ground_state(number_iterations: int, seed=\"The Variational Principle\"):\n",
    "    \"\"\"\n",
    "    Calculates the ground state wavefunction for a given potential system, by fiinding the wavefunction with\n",
    "    minimum expectation value in the energy <E>.\n",
    "    :param number_iterations: Number of times the wavefunction should be modified to obtain the final result.\n",
    "    :param seed: A seed for the random number generator.\n",
    "    :return: The normalised gorund state wavefunction.\n",
    "    \"\"\"\n",
    "    global energies_array\n",
    "    global infinitesimal_energy_expectations\n",
    "\n",
    "\n",
    "    # Set up the psi value\n",
    "    psi = initialise()\n",
    "\n",
    "    # psi is already normalised by initialise()\n",
    "    # and E is already calculated.\n",
    "    E = energy_expectation()\n",
    "\n",
    "    # Get the random number generator, uses the given seed so that the results are repeatable\n",
    "    random.seed(seed)\n",
    "\n",
    "    # Iterate for the number of desired iterations\n",
    "    for i in range(number_iterations):\n",
    "\n",
    "        # Get a random x coord to sample\n",
    "        rand_x = random.randrange(0, number_points)\n",
    "\n",
    "        # Generate a random number to alter the entry by.\n",
    "        # rand_y = random.random()\n",
    "        rand_y = 0\n",
    "        imaginary_part = random.randint(0, 1)\n",
    "        # True is the imaginary part:\n",
    "        if imaginary_part:\n",
    "            rand_y = complex(0, random.random())\n",
    "        else:\n",
    "            rand_y = complex(random.random())\n",
    "\n",
    "        E_up = tweak_psi(psi, rand_x, rand_y)\n",
    "        E_down = tweak_psi(psi, rand_x, -2 * rand_y)\n",
    "\n",
    "        # reset psi to it's original value.\n",
    "        tweak_psi(psi, rand_x, rand_y)\n",
    "\n",
    "        # Compare energies for tweaking the entry up versus down, and keep the change\n",
    "        # that results in a lower overall expectation value for the energy.\n",
    "        if E_up < E_down and E_up < E:\n",
    "\n",
    "            # If increasing the value in the entry results in a lower overall <E>\n",
    "            # set the change and keep it\n",
    "            E = tweak_psi(psi, rand_x, rand_y)\n",
    "\n",
    "        elif E_down < E_up and E_down < E:\n",
    "\n",
    "            # If decreasing the entry results in a lower overall <E>,\n",
    "            # reduce the value and keep it.\n",
    "            E = tweak_psi(psi, rand_x, -rand_y)\n",
    "\n",
    "        # otherwise the psi should be left unchanged.\n",
    "        # Same goes for Is, Es, norms, and the normalisation.\n",
    "\n",
    "    # Normalise the final wavefunction\n",
    "    psi = normalise_psi(psi)\n",
    "\n",
    "    return psi"
   ],
   "metadata": {
    "collapsed": false,
    "pycharm": {
     "name": "#%%\n",
     "is_executing": false
    }
   }
  },
  {
   "cell_type": "markdown",
   "source": [
    "Generates a Gaussian function to fit the range of the system, according to the \n",
    "Gaussian profile:\n",
    "\n",
    "$p(x) = \\frac{1}{\\sqrt{ 2 \\pi \\sigma^2 }} e^{ - \\frac{ (x - \\mu)^2 } {2 \\sigma^2} }$\n",
    "\n",
    "where \n",
    "\n",
    "$\\sigma$ is the standard deviation of the profile.\n",
    "\n",
    "and\n",
    "\n",
    "$\\mu$ is the mean x-value of the profile which its centred around."
   ],
   "metadata": {
    "collapsed": false
   }
  },
  {
   "cell_type": "code",
   "execution_count": 26,
   "outputs": [],
   "source": [
    "def generate_psi(start=lower_bound, stop=upper_bound, number_samples=number_points):\n",
    "    \"\"\"\n",
    "    Creates a Gaussian distribution for the wavefunction psi\n",
    "    :return:\n",
    "    \"\"\"\n",
    "\n",
    "    # Create an x spread of the bounds\n",
    "    x = numpy.linspace(start, stop, number_samples)\n",
    "\n",
    "    # The average value to centre the distribution about.\n",
    "    mu = complex((lower_bound + upper_bound) / 2.0)\n",
    "    # The standard deviation for the distribution\n",
    "    sigma = complex((upper_bound - lower_bound) / 4.0)\n",
    "    # pi....\n",
    "    pi = complex(numpy.pi)\n",
    "    # first part of the gaussian distribution\n",
    "    A = 1 / numpy.sqrt(2 * pi * sigma ** 2)\n",
    "    # second part of the gaussian distribution\n",
    "    B = numpy.exp(- ((x - mu) ** 2) / (2 * sigma ** 2))\n",
    "    # psi is the gaussian distribution\n",
    "    psi = A * B\n",
    "\n",
    "    return psi"
   ],
   "metadata": {
    "collapsed": false,
    "pycharm": {
     "name": "#%%\n",
     "is_executing": false
    }
   }
  },
  {
   "cell_type": "markdown",
   "source": [
    "Sets up the global arrays defined at the start for the given wavefunction, by populating their norms and \n",
    "energy expectations, then returning the normalised wavefunction."
   ],
   "metadata": {
    "collapsed": false
   }
  },
  {
   "cell_type": "code",
   "execution_count": 27,
   "outputs": [],
   "source": [
    "def initialise():\n",
    "    \"\"\"\n",
    "    Sets the initial values for the global arrays.\n",
    "    \"\"\"\n",
    "\n",
    "    # Set up psi\n",
    "    # psi = generate_psi()\n",
    "    psi = numpy.linspace(1, 1, number_points, dtype=complex)\n",
    "\n",
    "    # set the normalisation values in the arrays\n",
    "    for i in range(number_points):\n",
    "        recalculate_normalisation_arrays(psi, i)\n",
    "\n",
    "    # set the energy values in the arrays\n",
    "    for i in range(number_points):\n",
    "        recalculate_energy_arrays(psi, i)\n",
    "\n",
    "    # return the new psi\n",
    "    return psi"
   ],
   "metadata": {
    "collapsed": false,
    "pycharm": {
     "name": "#%%\n",
     "is_executing": false
    }
   }
  },
  {
   "cell_type": "markdown",
   "source": [
    "The actual running of the code to calculate a ground state wavefunction. The wavefunction and arrays are \n",
    "set up through `initialise()` then the change in energy between the initial guess and final answer \n",
    "are shown for illustrative purposes, while the wavefunction is calculated through `ground_state()`"
   ],
   "metadata": {
    "collapsed": false
   }
  },
  {
   "cell_type": "code",
   "execution_count": 28,
   "outputs": [
    {
     "name": "stderr",
     "text": [
      "/home/tiernan/anaconda3/envs/Variational-Principle/lib/python3.7/site-packages/ipykernel_launcher.py:11: ComplexWarning: Casting complex values to real discards the imaginary part\n",
      "  # This is added back by InteractiveShellApp.init_path()\n"
     ],
     "output_type": "stream"
    },
    {
     "name": "stdout",
     "text": [
      "Final Energy: 0.3233857069619262\n"
     ],
     "output_type": "stream"
    }
   ],
   "source": [
    "psi = ground_state(number_iterations)\n",
    "E = energy_expectation()\n",
    "print(\"Final Energy:\", E)"
   ],
   "metadata": {
    "collapsed": false,
    "pycharm": {
     "name": "#%%\n",
     "is_executing": false
    }
   }
  },
  {
   "cell_type": "markdown",
   "source": [
    "Plot the final wavefunction produced from the calculations."
   ],
   "metadata": {
    "collapsed": false
   }
  },
  {
   "cell_type": "code",
   "execution_count": 29,
   "outputs": [
    {
     "data": {
      "text/plain": "<Figure size 432x288 with 1 Axes>",
      "image/png": "[encoded data removed]"
     },
     "metadata": {
      "needs_background": "light"
     },
     "output_type": "display_data"
    }
   ],
   "source": [
    "plt.plot(x, psi.real)\n",
    "plt.title(\"Original $\\psi$\")\n",
    "plt.xlabel(\"x\")\n",
    "plt.ylabel(\"$\\psi$\")\n",
    "plt.show()"
   ],
   "metadata": {
    "collapsed": false,
    "pycharm": {
     "name": "#%%\n",
     "is_executing": false
    }
   }
  },
  {
   "cell_type": "markdown",
   "source": [
    "A short method to perform some fast fourier transforms on the produced ground state function, so that\n",
    "the noise can be removed from the result if desired."
   ],
   "metadata": {
    "collapsed": false
   }
  },
  {
   "cell_type": "code",
   "execution_count": 30,
   "outputs": [],
   "source": [
    "def fourier_analysis(psi):\n",
    "    # Do the FT on the wavefunction\n",
    "    fft_psi = fftpack.fft(psi.real)\n",
    "    # Half the produced value as the FT is symmetric\n",
    "    fft_psi = fft_psi[:int(len(fft_psi) / 2)]\n",
    "    # plt.plot(x, fft_psi)\n",
    "\n",
    "    # Plot the FT to visualise the results.\n",
    "    # plt.plot(fft_psi)\n",
    "    # plt.show()\n",
    "\n",
    "    # Chop the FT to keep only the most important harmonics\n",
    "    fft_psi = fft_psi[:33]\n",
    "    # Plot the minimised FT\n",
    "    # plt.plot(fft_psi)\n",
    "    # plt.show()\n",
    "\n",
    "    # Perform an inverse FT to get the smoothed wavefunction back\n",
    "    psi = fftpack.ifft(fft_psi)\n",
    "\n",
    "    # Plot the final wavefunction to show the result.\n",
    "    x_range = numpy.linspace(lower_bound, upper_bound, len(psi.real))\n",
    "    plt.plot(x_range, psi.real)\n",
    "    plt.title(\"Smoothed Wavefunction $\\psi$\")\n",
    "    plt.xlabel(\"x\")\n",
    "    plt.ylabel(\"$\\psi$\")\n",
    "    plt.show()"
   ],
   "metadata": {
    "collapsed": false,
    "pycharm": {
     "name": "#%%\n",
     "is_executing": false
    }
   }
  },
  {
   "cell_type": "code",
   "execution_count": 31,
   "outputs": [
    {
     "data": {
      "text/plain": "<Figure size 432x288 with 1 Axes>",
      "image/png": "[encoded data removed]"
     },
     "metadata": {
      "needs_background": "light"
     },
     "output_type": "display_data"
    }
   ],
   "source": [
    "fourier_analysis(psi)\n"
   ],
   "metadata": {
    "collapsed": false,
    "pycharm": {
     "name": "#%%\n",
     "is_executing": false
    }
   }
  }
 ],
 "metadata": {
  "kernelspec": {
   "display_name": "Python 3",
   "language": "python",
   "name": "python3"
  },
  "language_info": {
   "codemirror_mode": {
    "name": "ipython",
    "version": 3
   },
   "file_extension": ".py",
   "mimetype": "text/x-python",
   "name": "python",
   "nbconvert_exporter": "python",
   "pygments_lexer": "ipython3",
   "version": "3.7.6"
  },
  "pycharm": {
   "stem_cell": {
    "cell_type": "raw",
    "source": [],
    "metadata": {
     "collapsed": false
    }
   }
  }
 },
 "nbformat": 4,
 "nbformat_minor": 1
}