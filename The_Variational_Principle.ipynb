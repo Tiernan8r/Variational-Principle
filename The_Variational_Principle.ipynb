{
 "cells": [
  {
   "cell_type": "markdown",
   "source": [
    "# The Variational Principle"
   ],
   "metadata": {
    "collapsed": false
   }
  },
  {
   "cell_type": "markdown",
   "source": [
    "$$ \\hat{H}\\psi = E\\psi $$\n",
    "\n",
    "$$ [-\\frac{\\hbar^2}{2m}\\frac{\\partial^2}{\\partial x^2}+V(x)]\\psi=E\\psi $$"
   ],
   "metadata": {
    "collapsed": false,
    "pycharm": {
     "name": "#%% md\n"
    }
   }
  },
  {
   "cell_type": "markdown",
   "source": [
    "All the imports"
   ],
   "metadata": {
    "collapsed": false,
    "pycharm": {
     "name": "#%% md\n"
    }
   }
  },
  {
   "cell_type": "code",
   "execution_count": 4,
   "outputs": [],
   "source": [
    "import numpy\n",
    "import matplotlib.pyplot as plt\n",
    "from scipy import integrate"
   ],
   "metadata": {
    "collapsed": false,
    "pycharm": {
     "name": "#%%\n",
     "is_executing": false
    }
   }
  },
  {
   "cell_type": "markdown",
   "source": [
    "definitions:"
   ],
   "metadata": {
    "collapsed": false,
    "pycharm": {
     "name": "#%% md\n"
    }
   }
  },
  {
   "cell_type": "markdown",
   "source": [
    "The accuracy to get the energy to converge to"
   ],
   "metadata": {
    "collapsed": false
   }
  },
  {
   "cell_type": "code",
   "execution_count": 6,
   "outputs": [],
   "source": [
    "accuracy = 0.01"
   ],
   "metadata": {
    "collapsed": false,
    "pycharm": {
     "name": "#%%\n",
     "is_executing": false
    }
   }
  },
  {
   "cell_type": "markdown",
   "source": [
    "The bounds for the problem\n",
    "\n",
    "_x_min_ is the minimum value of x,\n",
    "\n",
    "_x_max_ is the maximum value of x,\n",
    "\n",
    "_x_step_ is the spacing between values,\n",
    "\n",
    "_number _samples_ is the integer to define\n",
    "the total number of samples to take, actual value is\n",
    "$2^n +1 $ "
   ],
   "metadata": {
    "collapsed": false,
    "pycharm": {
     "name": "#%% md\n"
    }
   }
  },
  {
   "cell_type": "code",
   "execution_count": 7,
   "outputs": [],
   "source": [
    "x_min = -10\n",
    "x_max = -x_min\n",
    "n = 10\n",
    "number_samples = 2**n + 1 # for romberg integration\n",
    "x_step = (x_max - x_min) / number_samples # make the step accurate"
   ],
   "metadata": {
    "collapsed": false,
    "pycharm": {
     "name": "#%%\n",
     "is_executing": false
    }
   }
  },
  {
   "cell_type": "markdown",
   "source": [
    "Calculate the _x_ variable"
   ],
   "metadata": {
    "collapsed": false,
    "pycharm": {
     "name": "#%% md\n"
    }
   }
  },
  {
   "cell_type": "code",
   "execution_count": 8,
   "outputs": [],
   "source": [
    "x = numpy.linspace(x_min, x_max, number_samples)"
   ],
   "metadata": {
    "collapsed": false,
    "pycharm": {
     "name": "#%%\n",
     "is_executing": false
    }
   }
  },
  {
   "cell_type": "markdown",
   "source": [
    "Pre-calculate the Hamiltonian factors, as they get reused quite a lot"
   ],
   "metadata": {
    "collapsed": false,
    "pycharm": {
     "name": "#%% md\n"
    }
   }
  },
  {
   "cell_type": "code",
   "execution_count": 9,
   "outputs": [],
   "source": [
    "h_bar = 1\n",
    "m = 1\n",
    "factor = -h_bar**2 / (2 * m)"
   ],
   "metadata": {
    "collapsed": false,
    "pycharm": {
     "name": "#%%\n",
     "is_executing": false
    }
   }
  },
  {
   "cell_type": "markdown",
   "source": [
    "Define the potential function, is a scalar function"
   ],
   "metadata": {
    "collapsed": false,
    "pycharm": {
     "name": "#%% md\n"
    }
   }
  },
  {
   "cell_type": "code",
   "execution_count": 16,
   "outputs": [],
   "source": [
    "def potential(x :numpy.ndarray):\n",
    "    #use x to iterate if need be\n",
    "    # per_section = int(numpy.floor(number_samples / 3))\n",
    "    # excess = number_samples - per_section * 3\n",
    "    # inf_wall = numpy.linspace(numpy.inf, numpy.inf, per_section)\n",
    "    # zero_well = numpy.zeros(per_section + excess)\n",
    "    # well = numpy.concatenate((-inf_wall, zero_well, inf_wall), axis=None)\n",
    "    # \n",
    "    # return well\n",
    "    return numpy.zeros(number_samples)"
   ],
   "metadata": {
    "collapsed": false,
    "pycharm": {
     "name": "#%%\n",
     "is_executing": false
    }
   }
  },
  {
   "cell_type": "markdown",
   "source": [
    "Define the Hamiltonian operator"
   ],
   "metadata": {
    "collapsed": false,
    "pycharm": {
     "name": "#%% md\n"
    }
   }
  },
  {
   "cell_type": "code",
   "execution_count": 11,
   "outputs": [],
   "source": [
    "# V is the potential,\n",
    "# psi is the wavefunction\n",
    "def hamiltonian(V :numpy.ndarray):\n",
    "    grad = numpy.gradient\n",
    "    def foo(psi :numpy.ndarray):\n",
    "        Vp = V * psi # The potential energy\n",
    "        Tp = factor * grad(grad(psi)) # The kinetic energy\n",
    "        return Tp + Vp\n",
    "    return foo"
   ],
   "metadata": {
    "collapsed": false,
    "pycharm": {
     "name": "#%%\n",
     "is_executing": false
    }
   }
  },
  {
   "cell_type": "markdown",
   "source": [
    "Function to evaluate the energy expectation value"
   ],
   "metadata": {
    "collapsed": false,
    "pycharm": {
     "name": "#%% md\n"
    }
   }
  },
  {
   "cell_type": "code",
   "execution_count": 12,
   "outputs": [],
   "source": [
    "def energy_expectation(psi :numpy.ndarray):\n",
    "    \n",
    "    V = potential(x)\n",
    "    H = hamiltonian(V)\n",
    "    psi_star = psi.conjugate()\n",
    "    integrand = psi_star * H(psi)\n",
    "        \n",
    "    initial_integrand =  integrate.romb(integrand, dx=x_step)\n",
    "    \n",
    "    #Normalisation\n",
    "    abs_psi = numpy.abs(psi_star * psi)\n",
    "    magnitude_psi = integrate.romb(abs_psi, dx=x_step)\n",
    " \n",
    "    normalised = initial_integrand\n",
    "    if not (magnitude_psi - accuracy) < 0:\n",
    "        normalised /= magnitude_psi\n",
    "    \n",
    "    return normalised"
   ],
   "metadata": {
    "collapsed": false,
    "pycharm": {
     "name": "#%%\n",
     "is_executing": false
    }
   }
  },
  {
   "cell_type": "markdown",
   "source": [
    "test run"
   ],
   "metadata": {
    "collapsed": false,
    "pycharm": {
     "name": "#%% md\n"
    }
   }
  },
  {
   "cell_type": "code",
   "execution_count": 22,
   "outputs": [
    {
     "name": "stdout",
     "text": [
      "0.0\n"
     ],
     "output_type": "stream"
    }
   ],
   "source": [
    "#psi is complex\n",
    "# psi = numpy.zeros(number_samples, dtype=numpy.complex)\n",
    "# psi = numpy.random.normal((x_max - x_min) / 2, x_max / 4, number_samples)\n",
    "psi = numpy.linspace(10, 10, number_samples)\n",
    "\n",
    "E = energy_expectation(psi)\n",
    "print(E)"
   ],
   "metadata": {
    "collapsed": false,
    "pycharm": {
     "name": "#%%\n",
     "is_executing": false
    }
   }
  },
  {
   "cell_type": "markdown",
   "source": [
    "Plotting of the potential and $\\psi$"
   ],
   "metadata": {
    "collapsed": false,
    "pycharm": {
     "name": "#%% md\n"
    }
   }
  },
  {
   "cell_type": "code",
   "execution_count": 23,
   "outputs": [
    {
     "data": {
      "text/plain": "<Figure size 432x288 with 1 Axes>",
      "image/png": "[encoded data removed]"
     },
     "metadata": {
      "needs_background": "light"
     },
     "output_type": "display_data"
    }
   ],
   "source": [
    "plt.plot(x, potential(x))\n",
    "plt.title(\"V\")\n",
    "plt.xlabel(\"x\")\n",
    "plt.ylabel(\"V\")\n",
    "plt.plot(x, psi)\n",
    "plt.ylabel(\"$\\psi$\")\n",
    "plt.show()"
   ],
   "metadata": {
    "collapsed": false,
    "pycharm": {
     "name": "#%%\n",
     "is_executing": false
    }
   }
  },
  {
   "cell_type": "markdown",
   "source": [
    "Loopy?!?"
   ],
   "metadata": {
    "collapsed": false,
    "pycharm": {
     "name": "#%% md\n"
    }
   }
  },
  {
   "cell_type": "code",
   "execution_count": null,
   "outputs": [],
   "source": [
    "def tweak_psi(psi, x, amount):\n",
    "    pass"
   ],
   "metadata": {
    "collapsed": false,
    "pycharm": {
     "name": "#%% \n",
     "is_executing": true
    }
   }
  },
  {
   "cell_type": "code",
   "execution_count": null,
   "outputs": [],
   "source": [
    "prev_E = 10 # the previous energy value\n",
    "\n",
    "while numpy.abs(prev_E - E) > accuracy:\n",
    "    \n",
    "    #Change psi\n",
    "    for pos in x:\n",
    "        \n",
    "        #Tweak up & tweak down\n",
    "        psi_up = tweak_psi(psi, pos, +1)\n",
    "        psi_down = tweak_psi(psi, pos, -1)\n",
    "        \n",
    "        E_up = energy_expectation(psi_up)\n",
    "        E_down = energy_expectation(psi_down)\n",
    "        \n",
    "        diff_up = numpy.abs(prev_E - E_up)\n",
    "        diff_down = numpy.abs(prev_E - E_down)\n",
    "        diff_no_change = numpy.abs(prev_E - E)\n",
    "        \n",
    "        if diff_up < diff_down:\n",
    "            E = E_up\n",
    "        else:\n",
    "            E= E_down\n",
    "        \n",
    "        prev_E = E\n",
    "        E = energy_expectation(psi)\n",
    "    "
   ],
   "metadata": {
    "collapsed": false,
    "pycharm": {
     "name": "#%%\n",
     "is_executing": true
    }
   }
  }
 ],
 "metadata": {
  "kernelspec": {
   "display_name": "Python 3",
   "language": "python",
   "name": "python3"
  },
  "language_info": {
   "codemirror_mode": {
    "name": "ipython",
    "version": 2
   },
   "file_extension": ".py",
   "mimetype": "text/x-python",
   "name": "python",
   "nbconvert_exporter": "python",
   "pygments_lexer": "ipython2",
   "version": "2.7.6"
  },
  "pycharm": {
   "stem_cell": {
    "cell_type": "raw",
    "source": [],
    "metadata": {
     "collapsed": false
    }
   }
  }
 },
 "nbformat": 4,
 "nbformat_minor": 0
}