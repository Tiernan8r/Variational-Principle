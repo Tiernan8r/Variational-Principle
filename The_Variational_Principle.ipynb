{
 "cells": [
  {
   "cell_type": "markdown",
   "metadata": {},
   "source": [
    "# The Variational Principle"
   ]
  },
  {
   "cell_type": "markdown",
   "metadata": {
    "pycharm": {
     "name": "#%% md\n"
    }
   },
   "source": [
    "$$ \\hat{H}\\psi = E\\psi $$\n",
    "\n",
    "$$ [-\\frac{\\hbar^2}{2m}\\frac{\\partial^2}{\\partial x^2}+V(x)]\\psi=E\\psi $$"
   ]
  },
  {
   "cell_type": "markdown",
   "metadata": {
    "pycharm": {
     "name": "#%% md\n"
    }
   },
   "source": [
    "All the imports"
   ]
  },
  {
   "cell_type": "code",
   "execution_count": 1,
   "metadata": {
    "pycharm": {
     "is_executing": false,
     "name": "#%%\n"
    }
   },
   "outputs": [],
   "source": [
    "import matplotlib.pyplot as plt\n",
    "import numpy\n",
    "from scipy import integrate"
   ]
  },
  {
   "cell_type": "markdown",
   "metadata": {
    "pycharm": {
     "name": "#%% md\n"
    }
   },
   "source": [
    "Set the value of $\\hbar$ and $m$ used in the Schrodinger Equation and calculate the \n",
    "value of $-\\frac{\\hbar^2}{2m}$ as it's reused constantly in calculations.\n",
    "\n",
    "Values taken from Wikipedia:\n",
    "* $\\hbar$: https://en.wikipedia.org/wiki/Planck_constant\n",
    "* $m$: https://en.wikipedia.org/wiki/Electron"
   ]
  },
  {
   "cell_type": "code",
   "execution_count": 2,
   "metadata": {
    "pycharm": {
     "is_executing": false,
     "name": "#%%\n"
    }
   },
   "outputs": [],
   "source": [
    "# h_bar = 1\n",
    "# h_bar = 1.054571817 * 10 **-34 \t#J⋅s\n",
    "h_bar = 6.582119569 * 10 ** -16   #eV.s\n",
    "\n",
    "\n",
    "# m = 1\n",
    "m = 9.1093837015 *10**-31 #kg (from wikipedia)\n",
    "\n",
    "factor = -h_bar**2 / (2 * m)"
   ]
  },
  {
   "cell_type": "markdown",
   "metadata": {
    "pycharm": {
     "name": "#%% md\n"
    }
   },
   "source": [
    "Define the potential function, it is a scalar function that has the same length as \n",
    "the given $\\bar{r}$"
   ]
  },
  {
   "cell_type": "markdown",
   "metadata": {
    "pycharm": {
     "is_executing": false,
     "name": "#%% md\n"
    }
   },
   "source": [
    "Create sub potential functions that can be implemented in the main function for \n",
    "analytically solved examples:"
   ]
  },
  {
   "cell_type": "code",
   "execution_count": 3,
   "outputs": [],
   "source": [
    "def free_particle(r : numpy.ndarray):\n",
    "    \"\"\"\n",
    "    The free particle potential represents an unbound particle in zero potential.\n",
    "    :param r: The coordinates of the potential values\n",
    "    :return: The free particle potential.\n",
    "    \"\"\"\n",
    "    # The free particle has no potential.\n",
    "    return numpy.zeros(len(r))"
   ],
   "metadata": {
    "collapsed": false,
    "pycharm": {
     "name": "#%%\n",
     "is_executing": false
    }
   }
  },
  {
   "cell_type": "code",
   "execution_count": null,
   "outputs": [],
   "source": [
    "def finite_square_well(r : numpy.ndarray, V_0 : float, *wall_bounds : int):\n",
    "    \"\"\"\n",
    "    The infinite square well has defined potential within the bounds.\n",
    "    :param r: The coordinates of the potential values.\n",
    "    :param V_0: The potential value outside of the well\n",
    "    :param wall_bounds: The points at which the well boundary starts. \n",
    "    :return: The infinite potential well function. \n",
    "    \"\"\"\n",
    "    # Get the number of points along the axis\n",
    "    num_points = len(r)\n",
    "    # The first number in wall_bounds is the index of the first well wall\n",
    "    lower = wall_bounds[0]\n",
    "    # the index of the second wall is the second index in wall_bounds \n",
    "    upper = wall_bounds[1]\n",
    "    \n",
    "    # Create the potential barrier of the well.\n",
    "    lower_wall = numpy.array([V_0] * lower)\n",
    "    # inside the well the potential is 0\n",
    "    zeroes = numpy.zeros(num_points - lower - upper)\n",
    "    # second potential barrier\n",
    "    upper_wall = numpy.array([V_0] * upper)\n",
    "    # Make the potential the combination of all the sections\n",
    "    pot = numpy.concatenate((lower_wall, zeroes, upper_wall))\n",
    "    \n",
    "    return pot\n"
   ],
   "metadata": {
    "collapsed": false,
    "pycharm": {
     "name": "#%%\n"
    }
   }
  },
  {
   "cell_type": "code",
   "execution_count": 4,
   "outputs": [],
   "source": [
    "def infinite_square_well(r : numpy.ndarray, *wall_bounds : int):\n",
    "    \"\"\"\n",
    "    The infinite square well has defined potential within the bounds.\n",
    "    :param r: The coordinates of the potential values.\n",
    "    :param wall_bounds: The points at which the well boundary starts.\n",
    "    :return: The infinite potential well function.\n",
    "    \"\"\"\n",
    "    # Use the finite square well with infinite barriers.\n",
    "    return finite_square_well(r, numpy.inf, wall_bounds)"
   ],
   "metadata": {
    "collapsed": false,
    "pycharm": {
     "name": "#%%\n",
     "is_executing": false
    }
   }
  },
  {
   "cell_type": "code",
   "execution_count": 5,
   "outputs": [],
   "source": [
    "def harmonic_oscillator(r : numpy.ndarray, k : float):\n",
    "    \"\"\"\n",
    "    The Harmonic Oscillator potential is quadratic about the origin.\n",
    "    :param r: The coordinates of the potential values.\n",
    "    :param k: Hooke's constant for the system\n",
    "    :return: The harmonic potential.\n",
    "    \"\"\"\n",
    "    # The potential energy formula:\n",
    "    return 0.5 * k * r**2"
   ],
   "metadata": {
    "collapsed": false,
    "pycharm": {
     "name": "#%%\n",
     "is_executing": false
    }
   }
  },
  {
   "cell_type": "code",
   "execution_count": 6,
   "outputs": [],
   "source": [
    "def potential(r :numpy.ndarray):\n",
    "    \"\"\"\n",
    "    The potential energy function of the system.\n",
    "    :param r: The points on the axes of the system. \n",
    "    :return: A scalar ndarray of the values of the potential at each point in r. \n",
    "    \"\"\"\n",
    "    \n",
    "    return harmonic_oscillator(r, 0.01)"
   ],
   "metadata": {
    "collapsed": false,
    "pycharm": {
     "name": "#%%\n",
     "is_executing": false
    }
   }
  },
  {
   "cell_type": "markdown",
   "metadata": {
    "pycharm": {
     "name": "#%% md\n"
    }
   },
   "source": [
    "Define the Hamiltonian operator from the Schrodinger Equation:\n",
    "\n",
    "$$\\hat{H} = -\\frac{\\hbar^2}{2m}\\nabla^2+V(x)$$\n",
    "\n",
    "where \n",
    "\n",
    "$$\\nabla^2=\\frac{\\partial^2}{\\partial x^2} + \\frac{\\partial^2}{\\partial y^2} + \\frac{\\partial^2}{\\partial z^2}$$"
   ]
  },
  {
   "cell_type": "code",
   "execution_count": 7,
   "metadata": {
    "pycharm": {
     "is_executing": false,
     "name": "#%%\n"
    }
   },
   "outputs": [],
   "source": [
    "# V is the potential,\n",
    "# psi is the wavefunction\n",
    "def hamiltonian(V :numpy.ndarray):\n",
    "    \"\"\"\n",
    "    Returns the Hamiltonian Operator H for a given potential function V.\n",
    "    \n",
    "    :param V: The potential function of the system.\n",
    "    :return: The Hamiltonian operator H of the system.\n",
    "    \"\"\"\n",
    "    \n",
    "    # The grad() function to take derivatives of the given wavefunction\n",
    "    grad = numpy.gradient\n",
    "    \n",
    "    # In order to make the hamiltonian an operator, need to return a function \n",
    "    # that can be the operator\n",
    "    \n",
    "    # placeholder function to be returned, takes in the wavefunction as it's parameter\n",
    "    def foo(psi :numpy.ndarray):\n",
    "        \"\"\"\n",
    "        The Hamiltonian Operator H, operates on the given wavefunction psi according\n",
    "        to the Schrodinger Time Indepedent Equation:\n",
    "        H = -(hbar^2)/(2m) * d^2/dx^2 + V(x)\n",
    "        :param psi: The wavefunction of the system.\n",
    "        :return: The energy E of the wavefunction.\n",
    "        \"\"\"\n",
    "        # Since the Hamiltonian represents the Energy of the system, it can be split \n",
    "        # into the potential energy (V) and kinetic energy (T) \n",
    "        \n",
    "        # The potential energy combined with the wavefunction.\n",
    "        Vp = V * psi\n",
    "        # The kinetic energy operated on the waefunction, using the pre-calculated\n",
    "        # factor of -hbar^2 / 2m.\n",
    "        Tp = factor * grad(grad(psi))\n",
    "        # H = Tp + Vp\n",
    "        return Tp + Vp\n",
    "    # return the operator function\n",
    "    return foo"
   ]
  },
  {
   "cell_type": "markdown",
   "metadata": {
    "pycharm": {
     "is_executing": false,
     "name": "#%% md\n"
    }
   },
   "source": [
    "The normalisation condition for $\\psi$ id that:\n",
    "\n",
    "$$\\int|\\psi|^2dx=1$$\n",
    "\n",
    "for a given non-normalised wavefunction the condition is:\n",
    "\n",
    "$$\\int{|\\psi|^2dx}=A^2$$ for some constant $A$.\n",
    "\n",
    "Thus the normalised $\\psi_0$ is given by: $\\psi_0=\\frac{\\psi}{A}$. "
   ]
  },
  {
   "cell_type": "code",
   "execution_count": 8,
   "outputs": [],
   "source": [
    "def normalise_psi(psi: numpy.ndarray):\n",
    "    \"\"\"\n",
    "    Normalises the given wavefunction so that it's magnitude integrated over it's \n",
    "    extent is 1.\n",
    "    :param psi: The wavefunction to normalise\n",
    "    :return: A normalised ndarray of the wavefunction psi.\n",
    "    \"\"\"\n",
    "    # Can't use:\n",
    "    # norm = expectation_value(lambda p: p, psi)\n",
    "    # Due to recursive loop, solution is to make this function \n",
    "    # stand alone.\n",
    "\n",
    "    # Get the complex conjugate of the wavefunction\n",
    "    psi_star = psi.conj()\n",
    "    # Get the magnitude of the wavefunction by multiply the original and conjugate\n",
    "    # parts.\n",
    "    mag_psi = psi_star * psi\n",
    "\n",
    "    # Get the integration of this magnitude\n",
    "    norm = integrate.romb(mag_psi)\n",
    "    \n",
    "    # Normalise the wavefunction by the square root of the norm.\n",
    "    norm_psi = psi / numpy.sqrt(norm)\n",
    "\n",
    "    return norm_psi"
   ],
   "metadata": {
    "collapsed": false,
    "pycharm": {
     "name": "#%%\n",
     "is_executing": false
    }
   }
  },
  {
   "cell_type": "markdown",
   "metadata": {
    "pycharm": {
     "name": "#%% md\n"
    }
   },
   "source": [
    "Function to evaluate the general expectation value $< Q >$ for a given operator \n",
    "$Q(\\bar{r}, \\hat\\rho)$ according to the condition:\n",
    "\n",
    "$$\\int{\\psi^*\\hat{Q}\\psi dr}= < Q >$$"
   ]
  },
  {
   "cell_type": "code",
   "execution_count": 9,
   "metadata": {
    "pycharm": {
     "is_executing": false,
     "name": "#%%\n"
    }
   },
   "outputs": [],
   "source": [
    "def expectation_value(Q, psi: numpy.ndarray):\n",
    "    \"\"\"\n",
    "    Calculates the general expectation <Q> for the general operator Q.\n",
    "    :param Q: Any operator on psi. \n",
    "    :param psi: The wavefunction to operate on\n",
    "    :return: The expectation <Q> of the operator.\n",
    "    \"\"\"\n",
    "    # TODO: add check for if it's already normalised?\n",
    "    # may be more efficient when large arrays are involved\n",
    "    psi = normalise_psi(psi)\n",
    "    # Get the complex conjugate of the wavefunction\n",
    "    psi_star = psi.conjugate()\n",
    "    # The condition to integrate\n",
    "    integrand = psi_star * Q(psi)\n",
    "\n",
    "    return integrate.romb(integrand)"
   ]
  },
  {
   "cell_type": "markdown",
   "metadata": {
    "pycharm": {
     "is_executing": false,
     "name": "#%% md\n"
    }
   },
   "source": [
    "Calculate the $< E >$ energy expectation value using the hamiltonian operator $\\hat H$."
   ]
  },
  {
   "cell_type": "code",
   "execution_count": 10,
   "outputs": [],
   "source": [
    "def energy_expectation(psi :numpy.ndarray):\n",
    "    \"\"\"\n",
    "    Calculates the expectation value for the energy of the given wavefunction \n",
    "    representing a particle.\n",
    "    :param psi: The wavefunction to get the energy of.\n",
    "    :return: The <E> a scalar of the energy of the particle in the system.\n",
    "    \"\"\"\n",
    "    # Get the potential of the system\n",
    "    V = potential(x)\n",
    "    # Get the Hamiltonian of the system\n",
    "    H = hamiltonian(V)\n",
    "    # Calculate <H> which is the equivalent to <E>\n",
    "    return expectation_value(H, psi)"
   ],
   "metadata": {
    "collapsed": false,
    "pycharm": {
     "name": "#%%\n",
     "is_executing": false
    }
   }
  },
  {
   "cell_type": "markdown",
   "source": [
    "# Dimensionless Schrodinger Equation\n",
    " ---\n",
    " https://www.finetuningphysics.com/equations/dimensionless-schrodinger-equation\n",
    " "
   ],
   "metadata": {
    "collapsed": false,
    "pycharm": {
     "name": "#%% md\n"
    }
   }
  },
  {
   "cell_type": "markdown",
   "source": [
    "Summarised:\n",
    "1. We start off by defining the following quantities:\n",
    "    1. $\\ell_a = \\frac{\\hbar}{m_e c} $\n",
    "    * $t_a = \\frac{\\hbar}{m_e c^2}$\n",
    "    * $E_a = m_e c^2$\n",
    "* which allows us to rewrite relevant quantities in a dimensionless form, as follows:\n",
    "    1. $\\tau = \\frac{t}{t_a}$\n",
    "    * $\\bar{\\rho}=\\frac{\\bar{r}}{\\ell_a}$\n",
    "    * $\\varepsilon = \\frac{E}{E_a}$\n",
    "    * $\\mu_i=\\frac{m_i}{m_e}$\n",
    "* Thus we can rewrite the Schrodinger Equation as:\n",
    "     $$i\\frac{\\partial}{\\partial t}\\psi(\\bar{\\rho}, \\tau)=-(\\frac{1}{2}\\frac{m_e}{m}\\nabla^2 + V)\\psi(\\bar{\\rho}, \\tau)$$"
   ],
   "metadata": {
    "collapsed": false,
    "pycharm": {
     "name": "#%% md\n"
    }
   }
  },
  {
   "cell_type": "markdown",
   "source": [
    "$$[-\\frac{\\hbar^2}{2m}\\nabla^2+V]\\psi(x)=E\\psi(x)$$\n"
   ],
   "metadata": {
    "collapsed": false,
    "pycharm": {
     "name": "#%% md\n"
    }
   }
  },
  {
   "cell_type": "code",
   "execution_count": 11,
   "outputs": [],
   "source": [
    "c = 299792458 # speed of light\n",
    "\n",
    "l_a = h_bar / (m * c)\n",
    "t_a = h_bar / (m * c**2)\n",
    "E_a = m * c**2\n",
    "\n",
    "# tau = t/t_a\n",
    "# rho = r / l_a\n",
    "# rho = x / l_a\n",
    "# epsilon = E / E_a\n",
    "# mu_i = m_i / m_e"
   ],
   "metadata": {
    "collapsed": false,
    "pycharm": {
     "name": "#%%\n",
     "is_executing": false
    }
   }
  },
  {
   "cell_type": "markdown",
   "source": [
    "# Definitions:"
   ],
   "metadata": {
    "collapsed": false
   }
  },
  {
   "cell_type": "markdown",
   "source": [
    "The bounds for the problem\n",
    "\n",
    "_x_min_ is the minimum value of x,\n",
    "\n",
    "_x_max_ is the maximum value of x,\n",
    "\n",
    "_x_step_ is the spacing between values,\n",
    "\n",
    "_number _samples_ is the integer to define\n",
    "the total number of samples to take, actual value is\n",
    "$2^n +1 $ "
   ],
   "metadata": {
    "collapsed": false
   }
  },
  {
   "cell_type": "code",
   "execution_count": 12,
   "outputs": [],
   "source": [
    "x_min = -20\n",
    "x_max = -x_min\n",
    "n = 10\n",
    "number_samples = 2**n + 1 # for romberg integration\n",
    "x_step = (x_max - x_min) / number_samples # make the step accurate"
   ],
   "metadata": {
    "collapsed": false,
    "pycharm": {
     "name": "#%%\n",
     "is_executing": false
    }
   }
  },
  {
   "cell_type": "markdown",
   "source": [
    "Calculate the _x_ variable"
   ],
   "metadata": {
    "collapsed": false
   }
  },
  {
   "cell_type": "code",
   "execution_count": 13,
   "outputs": [],
   "source": [
    "x = numpy.linspace(x_min, x_max, number_samples)"
   ],
   "metadata": {
    "collapsed": false,
    "pycharm": {
     "name": "#%%\n",
     "is_executing": false
    }
   }
  },
  {
   "cell_type": "code",
   "execution_count": 14,
   "outputs": [],
   "source": [
    "def tweak_psi(psi, index, amount):\n",
    "    \"\"\"\n",
    "    A function to change the value of the wavefunction at a given coordinate by a given\n",
    "    amount.\n",
    "    :param psi: The wavefunction to modify. \n",
    "    :param index: The coordinate in the wavefunction to modify.\n",
    "    :param amount: The amount to modify by.\n",
    "    :return: A new wavefunction modified by the desired amount.\n",
    "    \"\"\"\n",
    "    # Create a copy of the wavefunction as the ndarray is mutable.\n",
    "    new_psi = psi.copy()\n",
    "    # Change the value at index by the desired amount.\n",
    "    new_psi[index] += amount\n",
    "    # return the new wavefunction\n",
    "    return new_psi"
   ],
   "metadata": {
    "collapsed": false,
    "pycharm": {
     "name": "#%%\n",
     "is_executing": false
    }
   }
  },
  {
   "cell_type": "markdown",
   "source": [
    "Initial calculation of the optimum ground state wavefunction for the given potential\n",
    "using a randomisation method"
   ],
   "metadata": {
    "collapsed": false,
    "pycharm": {
     "name": "#%% md\n",
     "is_executing": false
    }
   }
  },
  {
   "cell_type": "code",
   "execution_count": 15,
   "outputs": [
    {
     "data": {
      "text/plain": "<Figure size 432x288 with 1 Axes>",
      "image/png": "[encoded data removed]"
     },
     "metadata": {
      "needs_background": "light"
     },
     "output_type": "display_data"
    },
    {
     "traceback": [
      "\u001b[0;31m---------------------------------------------------------------------------\u001b[0m",
      "\u001b[0;31mKeyboardInterrupt\u001b[0m                         Traceback (most recent call last)",
      "\u001b[0;32m<ipython-input-15-c0b0f6d2c3fb>\u001b[0m in \u001b[0;36m<module>\u001b[0;34m\u001b[0m\n\u001b[1;32m     36\u001b[0m \u001b[0;34m\u001b[0m\u001b[0m\n\u001b[1;32m     37\u001b[0m     \u001b[0;31m# Get the corresponding energies for the tweaks\u001b[0m\u001b[0;34m\u001b[0m\u001b[0;34m\u001b[0m\u001b[0;34m\u001b[0m\u001b[0m\n\u001b[0;32m---> 38\u001b[0;31m     \u001b[0mE_up\u001b[0m \u001b[0;34m=\u001b[0m \u001b[0menergy_expectation\u001b[0m\u001b[0;34m(\u001b[0m\u001b[0mpsi_up\u001b[0m\u001b[0;34m)\u001b[0m\u001b[0;34m\u001b[0m\u001b[0;34m\u001b[0m\u001b[0m\n\u001b[0m\u001b[1;32m     39\u001b[0m     \u001b[0mE_down\u001b[0m \u001b[0;34m=\u001b[0m \u001b[0menergy_expectation\u001b[0m\u001b[0;34m(\u001b[0m\u001b[0mpsi_down\u001b[0m\u001b[0;34m)\u001b[0m\u001b[0;34m\u001b[0m\u001b[0;34m\u001b[0m\u001b[0m\n\u001b[1;32m     40\u001b[0m \u001b[0;34m\u001b[0m\u001b[0m\n",
      "\u001b[0;32m<ipython-input-10-69fc1c40a5ad>\u001b[0m in \u001b[0;36menergy_expectation\u001b[0;34m(psi)\u001b[0m\n\u001b[1;32m     11\u001b[0m     \u001b[0mH\u001b[0m \u001b[0;34m=\u001b[0m \u001b[0mhamiltonian\u001b[0m\u001b[0;34m(\u001b[0m\u001b[0mV\u001b[0m\u001b[0;34m)\u001b[0m\u001b[0;34m\u001b[0m\u001b[0;34m\u001b[0m\u001b[0m\n\u001b[1;32m     12\u001b[0m     \u001b[0;31m# Calculate <H> which is the equivalent to <E>\u001b[0m\u001b[0;34m\u001b[0m\u001b[0;34m\u001b[0m\u001b[0;34m\u001b[0m\u001b[0m\n\u001b[0;32m---> 13\u001b[0;31m     \u001b[0;32mreturn\u001b[0m \u001b[0mexpectation_value\u001b[0m\u001b[0;34m(\u001b[0m\u001b[0mH\u001b[0m\u001b[0;34m,\u001b[0m \u001b[0mpsi\u001b[0m\u001b[0;34m)\u001b[0m\u001b[0;34m\u001b[0m\u001b[0;34m\u001b[0m\u001b[0m\n\u001b[0m\u001b[1;32m     14\u001b[0m \u001b[0;34m\u001b[0m\u001b[0m\n",
      "\u001b[0;32m<ipython-input-9-925b1c7d0da2>\u001b[0m in \u001b[0;36mexpectation_value\u001b[0;34m(Q, psi)\u001b[0m\n\u001b[1;32m      8\u001b[0m     \u001b[0;31m# TODO: add check for if it's already normalised?\u001b[0m\u001b[0;34m\u001b[0m\u001b[0;34m\u001b[0m\u001b[0;34m\u001b[0m\u001b[0m\n\u001b[1;32m      9\u001b[0m     \u001b[0;31m# may be more efficient when large arrays are involved\u001b[0m\u001b[0;34m\u001b[0m\u001b[0;34m\u001b[0m\u001b[0;34m\u001b[0m\u001b[0m\n\u001b[0;32m---> 10\u001b[0;31m     \u001b[0mpsi\u001b[0m \u001b[0;34m=\u001b[0m \u001b[0mnormalise_psi\u001b[0m\u001b[0;34m(\u001b[0m\u001b[0mpsi\u001b[0m\u001b[0;34m)\u001b[0m\u001b[0;34m\u001b[0m\u001b[0;34m\u001b[0m\u001b[0m\n\u001b[0m\u001b[1;32m     11\u001b[0m     \u001b[0;31m# Get the complex conjugate of the wavefunction\u001b[0m\u001b[0;34m\u001b[0m\u001b[0;34m\u001b[0m\u001b[0;34m\u001b[0m\u001b[0m\n\u001b[1;32m     12\u001b[0m     \u001b[0mpsi_star\u001b[0m \u001b[0;34m=\u001b[0m \u001b[0mpsi\u001b[0m\u001b[0;34m.\u001b[0m\u001b[0mconjugate\u001b[0m\u001b[0;34m(\u001b[0m\u001b[0;34m)\u001b[0m\u001b[0;34m\u001b[0m\u001b[0;34m\u001b[0m\u001b[0m\n",
      "\u001b[0;32m<ipython-input-8-3eed9daa2770>\u001b[0m in \u001b[0;36mnormalise_psi\u001b[0;34m(psi)\u001b[0m\n\u001b[1;32m     18\u001b[0m \u001b[0;34m\u001b[0m\u001b[0m\n\u001b[1;32m     19\u001b[0m     \u001b[0;31m# Get the integration of this magnitude\u001b[0m\u001b[0;34m\u001b[0m\u001b[0;34m\u001b[0m\u001b[0;34m\u001b[0m\u001b[0m\n\u001b[0;32m---> 20\u001b[0;31m     \u001b[0mnorm\u001b[0m \u001b[0;34m=\u001b[0m \u001b[0mintegrate\u001b[0m\u001b[0;34m.\u001b[0m\u001b[0mromb\u001b[0m\u001b[0;34m(\u001b[0m\u001b[0mmag_psi\u001b[0m\u001b[0;34m)\u001b[0m\u001b[0;34m\u001b[0m\u001b[0;34m\u001b[0m\u001b[0m\n\u001b[0m\u001b[1;32m     21\u001b[0m \u001b[0;34m\u001b[0m\u001b[0m\n\u001b[1;32m     22\u001b[0m     \u001b[0;31m# Normalise the wavefunction by the square root of the norm.\u001b[0m\u001b[0;34m\u001b[0m\u001b[0;34m\u001b[0m\u001b[0;34m\u001b[0m\u001b[0m\n",
      "\u001b[0;32m~/anaconda3/envs/Variational-Principle/lib/python3.7/site-packages/scipy/integrate/quadrature.py\u001b[0m in \u001b[0;36mromb\u001b[0;34m(y, dx, axis, show)\u001b[0m\n\u001b[1;32m    594\u001b[0m         \u001b[0;32mfor\u001b[0m \u001b[0mj\u001b[0m \u001b[0;32min\u001b[0m \u001b[0mxrange\u001b[0m\u001b[0;34m(\u001b[0m\u001b[0;36m1\u001b[0m\u001b[0;34m,\u001b[0m \u001b[0mi\u001b[0m\u001b[0;34m+\u001b[0m\u001b[0;36m1\u001b[0m\u001b[0;34m)\u001b[0m\u001b[0;34m:\u001b[0m\u001b[0;34m\u001b[0m\u001b[0;34m\u001b[0m\u001b[0m\n\u001b[1;32m    595\u001b[0m             \u001b[0mprev\u001b[0m \u001b[0;34m=\u001b[0m \u001b[0mR\u001b[0m\u001b[0;34m[\u001b[0m\u001b[0;34m(\u001b[0m\u001b[0mi\u001b[0m\u001b[0;34m,\u001b[0m \u001b[0mj\u001b[0m\u001b[0;34m-\u001b[0m\u001b[0;36m1\u001b[0m\u001b[0;34m)\u001b[0m\u001b[0;34m]\u001b[0m\u001b[0;34m\u001b[0m\u001b[0;34m\u001b[0m\u001b[0m\n\u001b[0;32m--> 596\u001b[0;31m             \u001b[0mR\u001b[0m\u001b[0;34m[\u001b[0m\u001b[0;34m(\u001b[0m\u001b[0mi\u001b[0m\u001b[0;34m,\u001b[0m \u001b[0mj\u001b[0m\u001b[0;34m)\u001b[0m\u001b[0;34m]\u001b[0m \u001b[0;34m=\u001b[0m \u001b[0mprev\u001b[0m \u001b[0;34m+\u001b[0m \u001b[0;34m(\u001b[0m\u001b[0mprev\u001b[0m\u001b[0;34m-\u001b[0m\u001b[0mR\u001b[0m\u001b[0;34m[\u001b[0m\u001b[0;34m(\u001b[0m\u001b[0mi\u001b[0m\u001b[0;34m-\u001b[0m\u001b[0;36m1\u001b[0m\u001b[0;34m,\u001b[0m \u001b[0mj\u001b[0m\u001b[0;34m-\u001b[0m\u001b[0;36m1\u001b[0m\u001b[0;34m)\u001b[0m\u001b[0;34m]\u001b[0m\u001b[0;34m)\u001b[0m \u001b[0;34m/\u001b[0m \u001b[0;34m(\u001b[0m\u001b[0;34m(\u001b[0m\u001b[0;36m1\u001b[0m \u001b[0;34m<<\u001b[0m \u001b[0;34m(\u001b[0m\u001b[0;36m2\u001b[0m\u001b[0;34m*\u001b[0m\u001b[0mj\u001b[0m\u001b[0;34m)\u001b[0m\u001b[0;34m)\u001b[0m\u001b[0;34m-\u001b[0m\u001b[0;36m1\u001b[0m\u001b[0;34m)\u001b[0m\u001b[0;34m\u001b[0m\u001b[0;34m\u001b[0m\u001b[0m\n\u001b[0m\u001b[1;32m    597\u001b[0m         \u001b[0mh\u001b[0m \u001b[0;34m/=\u001b[0m \u001b[0;36m2.0\u001b[0m\u001b[0;34m\u001b[0m\u001b[0;34m\u001b[0m\u001b[0m\n\u001b[1;32m    598\u001b[0m \u001b[0;34m\u001b[0m\u001b[0m\n",
      "\u001b[0;31mKeyboardInterrupt\u001b[0m: "
     ],
     "ename": "KeyboardInterrupt",
     "evalue": "",
     "output_type": "error"
    }
   ],
   "source": [
    "# Use ramdom for random generation of numbers\n",
    "import random\n",
    "\n",
    "# The number of times to generate a random number.\n",
    "# number_iterations = 5000\n",
    "# number_iterations = 1000\n",
    "number_iterations = 50000\n",
    "# number_iterations = 5000000\n",
    "\n",
    "# Set the default wavefunction\n",
    "psi = numpy.linspace(1, 1, number_samples)\n",
    "\n",
    "# Plot the wavefunction versus the potential for visualisation\n",
    "plt.plot(x, psi)\n",
    "plt.plot(x, potential(x))\n",
    "plt.legend((\"$\\psi$\", \"V\"))\n",
    "plt.show()\n",
    "\n",
    "# Set the seed to be as desired, so that the results are repeatable.\n",
    "seed = \"The Variational Principle\"\n",
    "# Get the random number generator.\n",
    "rand = random.seed(seed)\n",
    "\n",
    "# Iterate for the number of desired iterations\n",
    "for i in range(number_iterations):\n",
    "    \n",
    "    # Get a random x coord to sample\n",
    "    rand_x = random.randrange(0, number_samples)\n",
    "    \n",
    "    # Generate a random number to alter the entry by.\n",
    "    rand_tweak = random.random()\n",
    "    \n",
    "    # Alter the entry up and down\n",
    "    psi_up = tweak_psi(psi, rand_x, +rand_tweak)\n",
    "    psi_down = tweak_psi(psi, rand_x, -rand_tweak)\n",
    "    \n",
    "    # Get the corresponding energies for the tweaks\n",
    "    E_up = energy_expectation(psi_up)\n",
    "    E_down = energy_expectation(psi_down)\n",
    "    \n",
    "    # Get the current energy for reference.\n",
    "    E = energy_expectation(psi)\n",
    "    \n",
    "    # Compare the Energies for the new tweaks, keep the one that\n",
    "    # produces a lower overall expectation energy.\n",
    "    if E_up < E_down and E_up < E:\n",
    "        psi = psi_up\n",
    "    elif E_down < E_up and E_down < E:\n",
    "        psi = psi_down\n",
    "\n",
    "# Normalise the final wavefunction\n",
    "psi = normalise_psi(psi)\n",
    "\n",
    "# plot the final wavefunction. \n",
    "plt.plot(x, psi)\n",
    "# plt.plot(x, potential(x))\n",
    "plt.show()\n",
    "   "
   ],
   "metadata": {
    "collapsed": false,
    "pycharm": {
     "name": "#%%\n",
     "is_executing": false
    }
   }
  },
  {
   "cell_type": "code",
   "execution_count": null,
   "outputs": [],
   "source": [
    "# Keep the wavefunction generated for reference.\n",
    "saved_psi = psi"
   ],
   "metadata": {
    "collapsed": false,
    "pycharm": {
     "name": "#%%\n",
     "is_executing": false
    }
   }
  },
  {
   "cell_type": "markdown",
   "source": [
    "Perform Fourier Analysis on the produced wavefunction to reduce the noise on the\n",
    "solution."
   ],
   "metadata": {
    "collapsed": false,
    "pycharm": {
     "name": "#%% md\n",
     "is_executing": false
    }
   }
  },
  {
   "cell_type": "code",
   "execution_count": null,
   "outputs": [],
   "source": [
    "# Get the Fast Fourier Transform package\n",
    "import scipy.fftpack as fftpack\n",
    "\n",
    "# Get the saved psi \n",
    "psi = saved_psi\n",
    "\n",
    "# Do the FT on the wavefunction\n",
    "fft_psi = fftpack.fft(psi)\n",
    "# Half the produced value as the FT is symmetric\n",
    "fft_psi = fft_psi[:int(len(fft_psi) / 2)]\n",
    "# plt.plot(x, fft_psi)\n",
    "\n",
    "# Plot the FT to visualise the results.\n",
    "plt.plot(fft_psi)\n",
    "plt.show()\n",
    "\n",
    "# Chop the FT to keep only the most important harmonics\n",
    "fft_psi = fft_psi[:25]\n",
    "# Plot the minimised FT\n",
    "plt.plot(fft_psi)\n",
    "plt.show()\n",
    "\n",
    "#Perform an inverse FT to get the smoothed wavefunction back\n",
    "psi = fftpack.ifft(fft_psi)\n",
    "\n",
    "# len_psi = len(psi)\n",
    "# print(len_psi)\n",
    "# \n",
    "# len_less_1 = len_psi - 1\n",
    "# print(len_less_1)\n",
    "# \n",
    "# log_2 = numpy.log2(len_less_1)\n",
    "# print(log_2)\n",
    "# k = int(numpy.ceil(log_2))\n",
    "# power = 2**k +1\n",
    "# print(power)\n",
    "# diff = power - len_psi\n",
    "# print(diff)\n",
    "# addition = numpy.zeros(diff)\n",
    "# print(addition)\n",
    "# \n",
    "# psi = numpy.concatenate((psi, addition))\n",
    "# print(len(psi))\n",
    "\n",
    "# Normalise the result\n",
    "psi_conj = psi.conj()\n",
    "mod_psi = psi_conj * psi\n",
    "A = numpy.sqrt(integrate.simps(mod_psi))\n",
    "psi /= A\n",
    "\n",
    "# psi = normalise_psi(psi)\n",
    "\n",
    "# Plot the final wavefunction to show the result.   \n",
    "x_range = numpy.linspace(x_min, x_max, len(psi))\n",
    "plt.plot(x_range, psi)\n",
    "plt.title(\"Smoothed Wavefunction $\\psi$\")\n",
    "plt.xlabel(\"x\")\n",
    "plt.ylabel(\"$\\psi$\")\n",
    "plt.show()\n"
   ],
   "metadata": {
    "collapsed": false,
    "pycharm": {
     "name": "#%%\n",
     "is_executing": false
    }
   }
  }
 ],
 "metadata": {
  "kernelspec": {
   "display_name": "Python 3",
   "language": "python",
   "name": "python3"
  },
  "language_info": {
   "codemirror_mode": {
    "name": "ipython",
    "version": 3
   },
   "file_extension": ".py",
   "mimetype": "text/x-python",
   "name": "python",
   "nbconvert_exporter": "python",
   "pygments_lexer": "ipython3",
   "version": "3.7.6"
  },
  "pycharm": {
   "stem_cell": {
    "cell_type": "raw",
    "source": [],
    "metadata": {
     "collapsed": false
    }
   }
  }
 },
 "nbformat": 4,
 "nbformat_minor": 1
}