{
 "cells": [
  {
   "cell_type": "code",
   "execution_count": 54,
   "metadata": {
    "collapsed": true,
    "pycharm": {
     "is_executing": false
    }
   },
   "outputs": [],
   "source": [
    "import random\n",
    "\n",
    "import matplotlib.pyplot as plt\n",
    "import numpy\n",
    "# Used for Fourier Analysis of results\n",
    "from scipy import fftpack"
   ]
  },
  {
   "cell_type": "code",
   "execution_count": 55,
   "outputs": [],
   "source": [
    "a = -20.0\n",
    "b = 20.0\n",
    "n = 2 ** 10 + 1\n",
    "# n = 10\n",
    "h = (b - a) / n\n",
    "inv_h_sq = h ** -2\n",
    "half_h = h * 0.5"
   ],
   "metadata": {
    "collapsed": false,
    "pycharm": {
     "name": "#%%\n",
     "is_executing": false
    }
   }
  },
  {
   "cell_type": "code",
   "execution_count": 56,
   "outputs": [],
   "source": [
    "hbar = 1.054571817 * 10 ** -34  # eV\n",
    "m = 9.1093837015 * 10 ** -31  # kg\n",
    "factor = -hbar ** 2 / (2 * m)"
   ],
   "metadata": {
    "collapsed": false,
    "pycharm": {
     "name": "#%%\n",
     "is_executing": false
    }
   }
  },
  {
   "cell_type": "code",
   "execution_count": 57,
   "outputs": [],
   "source": [
    "x = numpy.linspace(a, b, num=n, dtype=complex)\n",
    "k = 0.01\n",
    "V = numpy.zeros(n)\n",
    "# V = 0.5 * k * x ** 2"
   ],
   "metadata": {
    "collapsed": false,
    "pycharm": {
     "name": "#%%\n",
     "is_executing": false
    }
   }
  },
  {
   "cell_type": "code",
   "execution_count": 58,
   "outputs": [],
   "source": [
    "# Array containing all the H(psi)\n",
    "global hamiltonians_array\n",
    "# The tiny psi x H(psi)\n",
    "global infinitesimal_energy_expectations\n",
    "# The actual [psi x H(psi)]dx to sum over\n",
    "global energies_array\n",
    "# Array of magnitudes of the psi\n",
    "global normalisation_array\n",
    "# psi itself\n",
    "global psi\n",
    "# The actual <E> as a sum of the tiny <E>\n",
    "global E\n",
    "# The magnitude to normalise psi by\n",
    "global norm"
   ],
   "metadata": {
    "collapsed": false,
    "pycharm": {
     "name": "#%%\n",
     "is_executing": false
    }
   }
  },
  {
   "cell_type": "code",
   "execution_count": 59,
   "outputs": [],
   "source": [
    "norm = 0\n",
    "\n",
    "hamiltonians_array = numpy.zeros(n, dtype=complex)\n",
    "\n",
    "infinitesimal_energy_expectations = numpy.zeros(n)\n",
    "energies_array = numpy.zeros(n)\n",
    "is_normalised = False\n",
    "normalisation_array = numpy.zeros(n)\n",
    "E = 0"
   ],
   "metadata": {
    "collapsed": false,
    "pycharm": {
     "name": "#%%\n",
     "is_executing": false
    }
   }
  },
  {
   "cell_type": "code",
   "execution_count": 60,
   "outputs": [],
   "source": [
    "psi = numpy.linspace(1, 1, n, dtype=complex)\n",
    "mag_psi = psi.conj() * psi"
   ],
   "metadata": {
    "collapsed": false,
    "pycharm": {
     "name": "#%%\n",
     "is_executing": false
    }
   }
  },
  {
   "cell_type": "code",
   "execution_count": 61,
   "outputs": [],
   "source": [
    "# number_iterations = 10000\n",
    "number_iterations = 50000"
   ],
   "metadata": {
    "collapsed": false,
    "pycharm": {
     "name": "#%%\n",
     "is_executing": false
    }
   }
  },
  {
   "cell_type": "code",
   "execution_count": 62,
   "outputs": [],
   "source": [
    "def re_integrate(i: int, f: numpy.ndarray, step=h):\n",
    "    # rectangular rule, at only the given index to change the array\n",
    "    # sum the array after\n",
    "\n",
    "    # f_i = Is[i]\n",
    "    # Loop the indices back to the start if they overflow\n",
    "    # f_i_plus_i = Is[(i + 1) % n]\n",
    "    # Es[i] = (f_i + f_i_plus_i) * half_h\n",
    "\n",
    "    # Central Difference Rule:\n",
    "    # length = len(f)\n",
    "    # f_i = f[i]\n",
    "    # f_i_plus_1 = f[(i + 1) % length]\n",
    "    # out[i] = (f_i + f_i_plus_1) * 0.5 * step\n",
    "\n",
    "    # Rectangular Rule:\n",
    "    return f[i] * step"
   ],
   "metadata": {
    "collapsed": false,
    "pycharm": {
     "name": "#%%\n",
     "is_executing": false
    }
   }
  },
  {
   "cell_type": "code",
   "execution_count": 63,
   "outputs": [],
   "source": [
    "def second_derivative(f: numpy.ndarray, i: int, wrap=False):\n",
    "    \"\"\"\n",
    "    Calculates the 2nd order finite difference on the array f at the index i. If wrap is False,\n",
    "    The edge cases are calculated using the forward and backward differences respectively, otherwise the central\n",
    "    difference method is used throughout.\n",
    "    :param f: The array to perform the differentiation on.\n",
    "    :param i: The index to perform the differentiation at.\n",
    "    :param wrap: Whether the edge cases wrap around or not.\n",
    "    :return: The second order derivative at the index i.\n",
    "    \"\"\"\n",
    "    # https: // en.wikipedia.org / wiki / Finite_difference\n",
    "    # h = step size\n",
    "    # Centre difference 2nd Derivative: d^2f / dx^2 = f''(x):\n",
    "    # 1/h**2 * [f_i+1 - 2f_i + f_i-1]\n",
    "    length = len(f)\n",
    "\n",
    "    if not wrap and i + 1 >= length:\n",
    "        # Use second order backward instead:\n",
    "        # f'' = 1/h**2 * [f_i + f_i-2 - 2f_i-1]\n",
    "        f_i = f[i]\n",
    "        f_i_minus_1 = f[i - 1]\n",
    "        f_i_minus_2 = f[i - 2]\n",
    "\n",
    "        div2 = inv_h_sq * (f_i - 2 * f_i_minus_1 + f_i_minus_2)\n",
    "        return div2\n",
    "\n",
    "    if not wrap and i - 1 < 0:\n",
    "        # Use second order forward instead:\n",
    "        # f'' = 1/h**2 * [f_i + f_i+2 - 2f_i+1]\n",
    "        f_i = f[i]\n",
    "        f_i_plus_1 = f[i + 1]\n",
    "        f_i_plus_2 = f[i + 2]\n",
    "\n",
    "        div2 = inv_h_sq * (f_i - 2 * f_i_plus_1 + f_i_plus_2)\n",
    "        return div2\n",
    "\n",
    "    # Prevent the index going out of range, by looping back the index if it's too high\n",
    "    f_i_plus_1 = f[(i + 1) % length]\n",
    "    # Assume that the current index is in range\n",
    "    f_i = f[i]\n",
    "    # The lower index inherently loops back using negative indexing\n",
    "    f_i_minus_1 = f[i - 1]\n",
    "\n",
    "    # Current derivative.\n",
    "    div_2 = inv_h_sq * (f_i_plus_1 - 2 * f_i + f_i_minus_1)\n",
    "    return div_2"
   ],
   "metadata": {
    "collapsed": false,
    "pycharm": {
     "name": "#%%\n",
     "is_executing": false
    }
   }
  },
  {
   "cell_type": "code",
   "execution_count": 64,
   "outputs": [],
   "source": [
    "def hamil(psi: numpy.ndarray, i: int):\n",
    "    \"\"\"\n",
    "    Calculates the Hamiltonian of the given psi wavefunction at the given index in the array.\n",
    "    :param psi: The wavefunction to operate on.\n",
    "    :param i: The index to do the operation at.\n",
    "    :return: The hamiltonian value at index i for the given psi.\n",
    "    \"\"\"\n",
    "    # Tp = factor * second_derivative(psi)\n",
    "    # Vp = V * psi\n",
    "    # Hp = Tp + Vp\n",
    "    # return Hp\n",
    "\n",
    "    # Hp[i] = Tpi + Vpi\n",
    "    # pass\n",
    "\n",
    "    Tpi = factor * second_derivative(psi, i)\n",
    "    Vpi = V[i] * psi[i]\n",
    "    # Hpi = Tpi + Vpi\n",
    "    # return Hpi\n",
    "    # hamiltonians_array[i] = Tpi + Vpi\n",
    "    return Tpi + Vpi"
   ],
   "metadata": {
    "collapsed": false,
    "pycharm": {
     "name": "#%%\n",
     "is_executing": false
    }
   }
  },
  {
   "cell_type": "code",
   "execution_count": 65,
   "outputs": [],
   "source": [
    "def recalculate_energy(psi: numpy.ndarray, i: int):\n",
    "    \"\"\"\n",
    "    Recalculates the <E> at the given i for the given psi.\n",
    "    :param psi: The wavefunction to use for the expectation value.\n",
    "    :param i: The index to perform the calculation at.\n",
    "    \"\"\"\n",
    "    # psi*\n",
    "    # H psi\n",
    "    # I = psi* x H psi\n",
    "    # get at index i\n",
    "    # Change array entry at only this point,\n",
    "    # Then sum the array\n",
    "    global hamiltonians_array\n",
    "    global energies_array\n",
    "    global infinitesimal_energy_expectations\n",
    "\n",
    "    # alters the H*psi value at index i\n",
    "    hamiltonians_array[i] = hamil(psi, i)\n",
    "\n",
    "    infinitesimal_energy_expectations[i] = (psi[i].conj() * hamiltonians_array[i]).real\n",
    "\n",
    "    # re_integrate(i)\n",
    "    energies_array[i] = re_integrate(i, infinitesimal_energy_expectations)"
   ],
   "metadata": {
    "collapsed": false,
    "pycharm": {
     "name": "#%%\n",
     "is_executing": false
    }
   }
  },
  {
   "cell_type": "code",
   "execution_count": 66,
   "outputs": [],
   "source": [
    "def energy_expectation():\n",
    "    \"\"\"\n",
    "    Calculates the <E> energy expectation value from the energues_array array\n",
    "    :return: The energy expectation value <E> as a scalar.\n",
    "    \"\"\"\n",
    "    # global E\n",
    "    # E = numpy.sum(energies_array).real\n",
    "    # return E\n",
    "    non_normalised_E = numpy.sum(energies_array).real\n",
    "    normalised_E = non_normalised_E / norm\n",
    "    return normalised_E\n",
    "    # return numpy.sum(energies_array).real"
   ],
   "metadata": {
    "collapsed": false,
    "pycharm": {
     "name": "#%%\n",
     "is_executing": false
    }
   }
  },
  {
   "cell_type": "code",
   "execution_count": 67,
   "outputs": [],
   "source": [
    "def re_norm(psi: numpy.ndarray, i: int):\n",
    "    \"\"\"\n",
    "    Recalculates the normalisation for the given psi wavefunction at the index i.\n",
    "    :param psi: The wavefunction to re normalise.\n",
    "    :param i: The index to perform the normalisation at.\n",
    "    \"\"\"\n",
    "    global mag_psi\n",
    "    global normalisation_array\n",
    "    global is_normalised\n",
    "\n",
    "    mag_psi[i] = psi[i].conj() * psi[i]\n",
    "    normalisation_array[i] = re_integrate(i, mag_psi).real\n",
    "\n",
    "    is_normalised = False\n",
    "    # return re_integrate(i, mag_psi)"
   ],
   "metadata": {
    "collapsed": false,
    "pycharm": {
     "name": "#%%\n",
     "is_executing": false
    }
   }
  },
  {
   "cell_type": "code",
   "execution_count": 68,
   "outputs": [],
   "source": [
    "def normalise_arrays(psi : numpy.ndarray):\n",
    "    \"\"\"\n",
    "    Re-normalise the arrays using the normalisations calculated by re_norm()\n",
    "    :param psi: The wavefunction to normalise.\n",
    "    \"\"\"\n",
    "    # Assumes that norms has been properly calculated...\n",
    "    global is_normalised\n",
    "    global mag_psi\n",
    "    global normalisation_array\n",
    "    global norm\n",
    "\n",
    "    if not is_normalised:\n",
    "        norm = numpy.sum(normalisation_array)\n",
    "        mag_psi /= norm\n",
    "        normalisation_array /= norm\n",
    "        is_normalised = True"
   ],
   "metadata": {
    "collapsed": false,
    "pycharm": {
     "name": "#%%\n",
     "is_executing": false
    }
   }
  },
  {
   "cell_type": "code",
   "execution_count": 69,
   "outputs": [],
   "source": [
    "def normalise(psi: numpy.ndarray):\n",
    "    \"\"\"\n",
    "    Re-normalise the wavefunction psi, using the normalisation factors pre calculated from normalisation_array.\n",
    "    :param psi: The wavefunction to normalise.\n",
    "    :return: The normalised wavefunction.\n",
    "    \"\"\"\n",
    "    # Assumes that norms has been properly calculated...\n",
    "    global is_normalised\n",
    "    global mag_psi\n",
    "    global normalisation_array\n",
    "    global norm\n",
    "\n",
    "    # if not is_normalised:\n",
    "    #     norm = numpy.sum(normalisation_array)\n",
    "    #     psi /= numpy.sqrt(norm)\n",
    "    #     mag_psi /= norm\n",
    "    #     normalisation_array /= norm\n",
    "    #     is_normalised = True\n",
    "    #     return psi\n",
    "    # else:\n",
    "    #     return psi\n",
    "    normalise_arrays(psi)\n",
    "    psi /= numpy.sqrt(norm)\n",
    "    return psi\n",
    "\n",
    "    # norm = numpy.sum(normalisation_array)\n",
    "    # psi /= numpy.sqrt(norm)\n",
    "    # normalisation_array /= norm\n",
    "    # return psi\n",
    "\n",
    "    # is_normalised = True"
   ],
   "metadata": {
    "collapsed": false,
    "pycharm": {
     "name": "#%%\n",
     "is_executing": false
    }
   }
  },
  {
   "cell_type": "code",
   "execution_count": 70,
   "outputs": [],
   "source": [
    "def tweak_psi(psi: numpy.ndarray, pos: int, tweak: complex):\n",
    "    \"\"\"\n",
    "    Changes the given wavefunction at the given index by the given amount, and renormalises the result.\n",
    "    Calculates the new <E> for this changed wave function as well.\n",
    "    :param psi: The wavefunction to modify.\n",
    "    :param pos: The index of the wavefunction to modify.\n",
    "    :param tweak: The amount to modify by.\n",
    "    :return: A tuple of the wavefunction and it's corresponding <E>.\n",
    "    \"\"\"\n",
    "    # Tweak the value in psi by the given amount\n",
    "    psi[pos] += tweak\n",
    "\n",
    "    # Recompute the normalisation for this entry\n",
    "    re_norm(psi, pos)\n",
    "    # Re normalise psi\n",
    "    psi = normalise(psi)\n",
    "\n",
    "    # Re calculate the energy at this entry as well\n",
    "    recalculate_energy(psi, pos)\n",
    "    # The tweaked energy value is the new <E>\n",
    "    E_new = energy_expectation()\n",
    "\n",
    "    return psi, E_new"
   ],
   "metadata": {
    "collapsed": false,
    "pycharm": {
     "name": "#%%\n",
     "is_executing": false
    }
   }
  },
  {
   "cell_type": "code",
   "execution_count": 71,
   "outputs": [],
   "source": [
    "def ground_state(psi_start: numpy.ndarray, number_iterations: int, seed=\"The Variational Principle\"):\n",
    "    \"\"\"\n",
    "    Calculates the ground state wavefunction for a given potential system, by fiinding the wavefunction with\n",
    "    minimum expectation value in the energy <E>.\n",
    "    :param psi_start: The initial wavefunction guess.\n",
    "    :param number_iterations: Number of times the wavefunction should be modified to obtain the final result.\n",
    "    :param seed: A seed for the random number generator.\n",
    "    :return: The normalised gorund state wavefunction.\n",
    "    \"\"\"\n",
    "    global energies_array\n",
    "    global infinitesimal_energy_expectations\n",
    "    global is_normalised\n",
    "    global E\n",
    "\n",
    "    # Set the default wavefunction\n",
    "    psi = psi_start\n",
    "    # psi is already normalised by initialise()\n",
    "    # and E is already calculated.\n",
    "\n",
    "    # Get the random number generator, uses the given seed so that the results are repeatable\n",
    "    random.seed(seed)\n",
    "\n",
    "    # Iterate for the number of desired iterations\n",
    "    for i in range(number_iterations):\n",
    "\n",
    "        # Get a random x coord to sample\n",
    "        rand_x = random.randrange(0, n)\n",
    "\n",
    "        # Generate a random number to alter the entry by.\n",
    "        rand_y = 0\n",
    "        imaginary_part = random.randint(0, 1)\n",
    "        # True is the imaginary part:\n",
    "        if imaginary_part:\n",
    "            rand_y = complex(0, random.random())\n",
    "        else:\n",
    "            rand_y = complex(random.random())\n",
    "\n",
    "        # rand_y_real = random.random()\n",
    "        # rand_y_imag = random.random()\n",
    "        # rand_y = complex(rand_y_real, rand_y_imag)\n",
    "\n",
    "        #\n",
    "        # # Tweak the value in psi upward\n",
    "        # psi[rand_x] += rand_y\n",
    "\n",
    "        # # Recompute the normalisation for this entry\n",
    "        # re_norm(psi, rand_x)\n",
    "        # # Re normalise psi\n",
    "        # psi = normalise(psi)\n",
    "        # normalise_arrays(psi)\n",
    "\n",
    "        # # Re calculate the energy at this entry as well\n",
    "        # recalculate_energy(psi, rand_x)\n",
    "        # # The tweaked up value is the new <E>\n",
    "        # E_up = energy_expectation()\n",
    "        psi, E_up = tweak_psi(psi, rand_x, rand_y)\n",
    "        #\n",
    "        # # Tweak the value in psi downward from the original psi value\n",
    "        # psi[rand_x] -= 2 * rand_y\n",
    "        # # Re normalise\n",
    "        # re_norm(psi, rand_x)\n",
    "        # psi = normalise(psi)\n",
    "        #\n",
    "        # # Calculate <E> for this change again.\n",
    "        # recalculate_energy(psi, rand_x)\n",
    "        # E_down = energy_expectation()\n",
    "        psi, E_down = tweak_psi(psi, rand_x, -2 * rand_y)\n",
    "        #\n",
    "        # # reset psi to the original value\n",
    "        # psi[rand_x] += rand_y\n",
    "        # re_norm(psi, rand_x)\n",
    "        # psi = normalise(psi)\n",
    "        psi, E = tweak_psi(psi, rand_x, rand_y)\n",
    "\n",
    "        # Compare energies for tweaking the entry up versus down, and keep the change\n",
    "        # that results in a lower overall expectation value for the energy.\n",
    "        if E_up < E_down and E_up < E:\n",
    "\n",
    "            # If increasing the value in the entry results in a lower overall <E>\n",
    "            # set the change and keep it\n",
    "            psi[rand_x] += rand_y\n",
    "            E = E_up\n",
    "            re_norm(psi, rand_x)\n",
    "            psi = normalise(psi)\n",
    "\n",
    "        elif E_down < E_up and E_down < E:\n",
    "\n",
    "            # If decreasing the entry results in a lower overall <E>,\n",
    "            # reduce the value and keep it.\n",
    "            psi[rand_x] -= rand_y\n",
    "            E = E_down\n",
    "            re_norm(psi, rand_x)\n",
    "            psi = normalise(psi)\n",
    "\n",
    "        # otherwise the psi should be left unchanged.\n",
    "        # Same goes for Is, Es, norms, and the normalisation.\n",
    "\n",
    "    # Normalise the final wavefunction\n",
    "    # psi = normalise_psi(psi)\n",
    "    psi = normalise(psi)\n",
    "    return psi"
   ],
   "metadata": {
    "collapsed": false,
    "pycharm": {
     "name": "#%%\n",
     "is_executing": false
    }
   }
  },
  {
   "cell_type": "code",
   "execution_count": 72,
   "outputs": [],
   "source": [
    "# p(x) = \\frac{1}{\\sqrt{ 2 \\pi \\sigma^2 }} e^{ - \\frac{ (x - \\mu)^2 } {2 \\sigma^2} },\n",
    "def generate_psi():\n",
    "    \"\"\"\n",
    "    Creates a Gaussian distribution for the wavefunction psi\n",
    "    :return:\n",
    "    \"\"\"\n",
    "    global psi\n",
    "    mu = complex((a + b) / 2.0)\n",
    "    sigma = complex((b - a) / 4.0)\n",
    "    pi = complex(numpy.pi)\n",
    "    A = 1 / numpy.sqrt(2 * pi * sigma ** 2)\n",
    "    B = numpy.exp(- ((x - mu) ** 2) / (2 * sigma ** 2))\n",
    "    psi = A * B"
   ],
   "metadata": {
    "collapsed": false,
    "pycharm": {
     "name": "#%%\n",
     "is_executing": false
    }
   }
  },
  {
   "cell_type": "code",
   "execution_count": 73,
   "outputs": [],
   "source": [
    "def initialise():\n",
    "    \"\"\"\n",
    "    Sets the initial values for the global arrays.\n",
    "    :return:\n",
    "    \"\"\"\n",
    "    global E\n",
    "    global psi\n",
    "\n",
    "    for i in range(n):\n",
    "        re_norm(psi, i)\n",
    "    psi = normalise(psi)\n",
    "\n",
    "    for i in range(n):\n",
    "        recalculate_energy(psi, i)\n",
    "\n",
    "    # mag_psi = numpy.sum(norms)\n",
    "    # psi = psi / numpy.sqrt(mag_psi)\n",
    "    E = energy_expectation()"
   ],
   "metadata": {
    "collapsed": false,
    "pycharm": {
     "name": "#%%\n",
     "is_executing": false
    }
   }
  },
  {
   "cell_type": "code",
   "execution_count": 74,
   "outputs": [],
   "source": [
    "generate_psi()"
   ],
   "metadata": {
    "collapsed": false,
    "pycharm": {
     "name": "#%%\n",
     "is_executing": false
    }
   }
  },
  {
   "cell_type": "code",
   "execution_count": 75,
   "outputs": [],
   "source": [
    "initialise()\n",
    "for i in range(n):\n",
    "    re_norm(psi, i)\n",
    "psi = normalise(psi)"
   ],
   "metadata": {
    "collapsed": false,
    "pycharm": {
     "name": "#%%\n",
     "is_executing": false
    }
   }
  },
  {
   "cell_type": "code",
   "execution_count": 76,
   "outputs": [],
   "source": [
    "def plurts():\n",
    "    plt.plot(x, V)\n",
    "    plt.title(\"Potential\")\n",
    "    plt.show()\n",
    "\n",
    "    plt.plot(x, psi.real)\n",
    "    plt.title(\"Real $\\psi$\")\n",
    "    plt.show()\n",
    "\n",
    "    plt.plot(x, psi.imag)\n",
    "    plt.title(\"Imaginary $\\psi$\")\n",
    "    plt.show()\n",
    "\n",
    "    plt.plot(x, infinitesimal_energy_expectations)\n",
    "    plt.title(\"Infinitesimal <E>s\")\n",
    "    plt.show()\n",
    "\n",
    "    plt.plot(x, energies_array)\n",
    "    plt.title(\"Infinitesimal Energies\")\n",
    "    plt.show()\n",
    "\n",
    "    plt.plot(x, mag_psi)\n",
    "    plt.title(\"$|\\psi|^2$\")\n",
    "    plt.show()\n",
    "\n",
    "    plt.plot(x, normalisation_array)\n",
    "    plt.title(\"NORMS\")\n",
    "    plt.show()\n",
    "\n",
    "    plt.plot(x, hamiltonians_array)\n",
    "    plt.title(\"Infinitesimal Hamiltonians:\")\n",
    "    plt.show()"
   ],
   "metadata": {
    "collapsed": false,
    "pycharm": {
     "name": "#%%\n",
     "is_executing": false
    }
   }
  },
  {
   "cell_type": "code",
   "execution_count": 77,
   "outputs": [
    {
     "name": "stdout",
     "text": [
      "Initial Energy: 3.184212184244985e-41\n",
      "Final Energy: -1.0777891424710998e-36\n"
     ],
     "output_type": "stream"
    }
   ],
   "source": [
    "E = energy_expectation()\n",
    "print(\"Initial Energy:\", E)\n",
    "# plurts()\n",
    "psi = ground_state(psi, number_iterations)\n",
    "E = energy_expectation()\n",
    "print(\"Final Energy:\", E)\n",
    "# plurts()"
   ],
   "metadata": {
    "collapsed": false,
    "pycharm": {
     "name": "#%%\n",
     "is_executing": false
    }
   }
  },
  {
   "cell_type": "code",
   "execution_count": 78,
   "outputs": [
    {
     "data": {
      "text/plain": "<Figure size 432x288 with 1 Axes>",
      "image/png": "[encoded data removed]"
     },
     "metadata": {
      "needs_background": "light"
     },
     "output_type": "display_data"
    }
   ],
   "source": [
    "plt.plot(x, psi.real)\n",
    "plt.title(\"Original $\\psi$\")\n",
    "plt.xlabel(\"x\")\n",
    "plt.ylabel(\"$\\psi$\")\n",
    "plt.show()"
   ],
   "metadata": {
    "collapsed": false,
    "pycharm": {
     "name": "#%%\n",
     "is_executing": false
    }
   }
  },
  {
   "cell_type": "code",
   "execution_count": 79,
   "outputs": [
    {
     "data": {
      "text/plain": "<Figure size 432x288 with 1 Axes>",
      "image/png": "[encoded data removed]"
     },
     "metadata": {
      "needs_background": "light"
     },
     "output_type": "display_data"
    }
   ],
   "source": [
    "# Do the FT on the wavefunction\n",
    "fft_psi = fftpack.fft(psi.real)\n",
    "# Half the produced value as the FT is symmetric\n",
    "fft_psi = fft_psi[:int(len(fft_psi) / 2)]\n",
    "# plt.plot(x, fft_psi)\n",
    "\n",
    "# Plot the FT to visualise the results.\n",
    "# plt.plot(fft_psi)\n",
    "# plt.show()\n",
    "\n",
    "# Chop the FT to keep only the most important harmonics\n",
    "fft_psi = fft_psi[:33]\n",
    "# Plot the minimised FT\n",
    "# plt.plot(fft_psi)\n",
    "# plt.show()\n",
    "\n",
    "# Perform an inverse FT to get the smoothed wavefunction back\n",
    "psi = fftpack.ifft(fft_psi)\n",
    "\n",
    "# Plot the final wavefunction to show the result.\n",
    "x_range = numpy.linspace(a, b, len(psi.real))\n",
    "plt.plot(x_range, psi.real)\n",
    "plt.title(\"Smoothed Wavefunction $\\psi$\")\n",
    "plt.xlabel(\"x\")\n",
    "plt.ylabel(\"$\\psi$\")\n",
    "plt.show()"
   ],
   "metadata": {
    "collapsed": false,
    "pycharm": {
     "name": "#%%\n",
     "is_executing": false
    }
   }
  },
  {
   "cell_type": "code",
   "execution_count": 79,
   "outputs": [],
   "source": [],
   "metadata": {
    "collapsed": false,
    "pycharm": {
     "name": "#%%\n",
     "is_executing": false
    }
   }
  }
 ],
 "metadata": {
  "kernelspec": {
   "display_name": "Python 3",
   "language": "python",
   "name": "python3"
  },
  "language_info": {
   "codemirror_mode": {
    "name": "ipython",
    "version": 2
   },
   "file_extension": ".py",
   "mimetype": "text/x-python",
   "name": "python",
   "nbconvert_exporter": "python",
   "pygments_lexer": "ipython2",
   "version": "2.7.6"
  },
  "pycharm": {
   "stem_cell": {
    "cell_type": "raw",
    "source": [],
    "metadata": {
     "collapsed": false
    }
   }
  }
 },
 "nbformat": 4,
 "nbformat_minor": 0
}